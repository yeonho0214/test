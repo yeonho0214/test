{
 "cells": [
  {
   "cell_type": "code",
   "execution_count": 1,
   "id": "45532726",
   "metadata": {},
   "outputs": [],
   "source": [
    "import pandas as pd\n",
    "import numpy as np\n",
    "import seaborn as sns\n",
    "import matplotlib.pyplot as plt"
   ]
  },
  {
   "cell_type": "code",
   "execution_count": 2,
   "id": "45e4de90",
   "metadata": {},
   "outputs": [],
   "source": [
    "wine = pd.read_csv('save_total.csv')\n",
    "df = wine.copy()"
   ]
  },
  {
   "cell_type": "code",
   "execution_count": 120,
   "id": "fbbf0112",
   "metadata": {},
   "outputs": [],
   "source": [
    "X=df.drop('quality',axis=1)\n",
    "y=df['quality']\n",
    "\n",
    "from sklearn.model_selection import train_test_split\n",
    "X_train, X_test, y_train, y_test = train_test_split(X, y, test_size=0.2, random_state=42)\n",
    "\n",
    "from sklearn.neighbors import KNeighborsClassifier\n",
    "knn=KNeighborsClassifier(n_neighbors=8)"
   ]
  },
  {
   "cell_type": "code",
   "execution_count": 121,
   "id": "f2ff6613",
   "metadata": {},
   "outputs": [
    {
     "data": {
      "text/html": [
       "<style>#sk-container-id-26 {color: black;}#sk-container-id-26 pre{padding: 0;}#sk-container-id-26 div.sk-toggleable {background-color: white;}#sk-container-id-26 label.sk-toggleable__label {cursor: pointer;display: block;width: 100%;margin-bottom: 0;padding: 0.3em;box-sizing: border-box;text-align: center;}#sk-container-id-26 label.sk-toggleable__label-arrow:before {content: \"▸\";float: left;margin-right: 0.25em;color: #696969;}#sk-container-id-26 label.sk-toggleable__label-arrow:hover:before {color: black;}#sk-container-id-26 div.sk-estimator:hover label.sk-toggleable__label-arrow:before {color: black;}#sk-container-id-26 div.sk-toggleable__content {max-height: 0;max-width: 0;overflow: hidden;text-align: left;background-color: #f0f8ff;}#sk-container-id-26 div.sk-toggleable__content pre {margin: 0.2em;color: black;border-radius: 0.25em;background-color: #f0f8ff;}#sk-container-id-26 input.sk-toggleable__control:checked~div.sk-toggleable__content {max-height: 200px;max-width: 100%;overflow: auto;}#sk-container-id-26 input.sk-toggleable__control:checked~label.sk-toggleable__label-arrow:before {content: \"▾\";}#sk-container-id-26 div.sk-estimator input.sk-toggleable__control:checked~label.sk-toggleable__label {background-color: #d4ebff;}#sk-container-id-26 div.sk-label input.sk-toggleable__control:checked~label.sk-toggleable__label {background-color: #d4ebff;}#sk-container-id-26 input.sk-hidden--visually {border: 0;clip: rect(1px 1px 1px 1px);clip: rect(1px, 1px, 1px, 1px);height: 1px;margin: -1px;overflow: hidden;padding: 0;position: absolute;width: 1px;}#sk-container-id-26 div.sk-estimator {font-family: monospace;background-color: #f0f8ff;border: 1px dotted black;border-radius: 0.25em;box-sizing: border-box;margin-bottom: 0.5em;}#sk-container-id-26 div.sk-estimator:hover {background-color: #d4ebff;}#sk-container-id-26 div.sk-parallel-item::after {content: \"\";width: 100%;border-bottom: 1px solid gray;flex-grow: 1;}#sk-container-id-26 div.sk-label:hover label.sk-toggleable__label {background-color: #d4ebff;}#sk-container-id-26 div.sk-serial::before {content: \"\";position: absolute;border-left: 1px solid gray;box-sizing: border-box;top: 0;bottom: 0;left: 50%;z-index: 0;}#sk-container-id-26 div.sk-serial {display: flex;flex-direction: column;align-items: center;background-color: white;padding-right: 0.2em;padding-left: 0.2em;position: relative;}#sk-container-id-26 div.sk-item {position: relative;z-index: 1;}#sk-container-id-26 div.sk-parallel {display: flex;align-items: stretch;justify-content: center;background-color: white;position: relative;}#sk-container-id-26 div.sk-item::before, #sk-container-id-26 div.sk-parallel-item::before {content: \"\";position: absolute;border-left: 1px solid gray;box-sizing: border-box;top: 0;bottom: 0;left: 50%;z-index: -1;}#sk-container-id-26 div.sk-parallel-item {display: flex;flex-direction: column;z-index: 1;position: relative;background-color: white;}#sk-container-id-26 div.sk-parallel-item:first-child::after {align-self: flex-end;width: 50%;}#sk-container-id-26 div.sk-parallel-item:last-child::after {align-self: flex-start;width: 50%;}#sk-container-id-26 div.sk-parallel-item:only-child::after {width: 0;}#sk-container-id-26 div.sk-dashed-wrapped {border: 1px dashed gray;margin: 0 0.4em 0.5em 0.4em;box-sizing: border-box;padding-bottom: 0.4em;background-color: white;}#sk-container-id-26 div.sk-label label {font-family: monospace;font-weight: bold;display: inline-block;line-height: 1.2em;}#sk-container-id-26 div.sk-label-container {text-align: center;}#sk-container-id-26 div.sk-container {/* jupyter's `normalize.less` sets `[hidden] { display: none; }` but bootstrap.min.css set `[hidden] { display: none !important; }` so we also need the `!important` here to be able to override the default hidden behavior on the sphinx rendered scikit-learn.org. See: https://github.com/scikit-learn/scikit-learn/issues/21755 */display: inline-block !important;position: relative;}#sk-container-id-26 div.sk-text-repr-fallback {display: none;}</style><div id=\"sk-container-id-26\" class=\"sk-top-container\"><div class=\"sk-text-repr-fallback\"><pre>KNeighborsClassifier(n_neighbors=8)</pre><b>In a Jupyter environment, please rerun this cell to show the HTML representation or trust the notebook. <br />On GitHub, the HTML representation is unable to render, please try loading this page with nbviewer.org.</b></div><div class=\"sk-container\" hidden><div class=\"sk-item\"><div class=\"sk-estimator sk-toggleable\"><input class=\"sk-toggleable__control sk-hidden--visually\" id=\"sk-estimator-id-26\" type=\"checkbox\" checked><label for=\"sk-estimator-id-26\" class=\"sk-toggleable__label sk-toggleable__label-arrow\">KNeighborsClassifier</label><div class=\"sk-toggleable__content\"><pre>KNeighborsClassifier(n_neighbors=8)</pre></div></div></div></div></div>"
      ],
      "text/plain": [
       "KNeighborsClassifier(n_neighbors=8)"
      ]
     },
     "execution_count": 121,
     "metadata": {},
     "output_type": "execute_result"
    }
   ],
   "source": [
    "knn.fit(X_train,y_train)"
   ]
  },
  {
   "cell_type": "code",
   "execution_count": 122,
   "id": "160fb62f",
   "metadata": {},
   "outputs": [
    {
     "data": {
      "text/plain": [
       "0.5919117647058824"
      ]
     },
     "execution_count": 122,
     "metadata": {},
     "output_type": "execute_result"
    }
   ],
   "source": [
    "knn.score(X_test,y_test)"
   ]
  },
  {
   "cell_type": "code",
   "execution_count": 107,
   "id": "f5db271e",
   "metadata": {},
   "outputs": [],
   "source": [
    "acc_test=[]\n",
    "acc_train=[]\n",
    "for i in range(1,100):\n",
    "    knn_k = KNeighborsClassifier(n_neighbors=i)\n",
    "    knn_k.fit(X_train, y_train)\n",
    "    acc_test.append(knn_k.score(X_test, y_test))\n",
    "    acc_train.append(knn_k.score(X_train, y_train))"
   ]
  },
  {
   "cell_type": "code",
   "execution_count": 108,
   "id": "e7b5f06c",
   "metadata": {
    "scrolled": false
   },
   "outputs": [
    {
     "data": {
      "text/plain": [
       "[<matplotlib.lines.Line2D at 0x29be72f8a50>]"
      ]
     },
     "execution_count": 108,
     "metadata": {},
     "output_type": "execute_result"
    },
    {
     "data": {
      "image/png": "[encoded data removed]",
      "text/plain": [
       "<Figure size 640x480 with 1 Axes>"
      ]
     },
     "metadata": {},
     "output_type": "display_data"
    }
   ],
   "source": [
    "plt.plot(range(1,100), acc_test,'r')\n",
    "plt.plot(range(1,100), acc_train, 'g')"
   ]
  },
  {
   "cell_type": "code",
   "execution_count": 124,
   "id": "a442ccfe",
   "metadata": {},
   "outputs": [
    {
     "name": "stdout",
     "output_type": "stream",
     "text": [
      "최적의 파라미터: {'n_neighbors': 8}\n",
      "최적의 정확도: 0.58\n"
     ]
    }
   ],
   "source": [
    "from sklearn.model_selection import GridSearchCV\n",
    "\n",
    "# 하이퍼파라미터 그리드 정의\n",
    "param_grid = {'n_neighbors': range(1, 100)}\n",
    "\n",
    "# KNN 분류기 생성\n",
    "knn = KNeighborsClassifier()\n",
    "\n",
    "# GridSearchCV 객체 생성\n",
    "grid_search = GridSearchCV(knn, param_grid, cv=5, scoring='accuracy')\n",
    "\n",
    "# 그리드 서치를 데이터에 맞춤\n",
    "grid_search.fit(X_train, y_train)\n",
    "\n",
    "# 최적의 파라미터와 최적의 정확도 얻기\n",
    "best_params = grid_search.best_params_\n",
    "best_accuracy = grid_search.best_score_\n",
    "\n",
    "print(f'최적의 파라미터: {best_params}')\n",
    "print(f'최적의 정확도: {best_accuracy:.2f}')\n"
   ]
  },
  {
   "cell_type": "code",
   "execution_count": 126,
   "id": "f46876c7",
   "metadata": {},
   "outputs": [
    {
     "name": "stdout",
     "output_type": "stream",
     "text": [
      "최적의 k 값: 8\n",
      "최적 모델의 F1 점수: 0.57\n"
     ]
    }
   ],
   "source": [
    "from sklearn.metrics import f1_score\n",
    "\n",
    "# 최적의 파라미터로 모델 초기화\n",
    "best_k = best_params['n_neighbors']\n",
    "best_knn = KNeighborsClassifier(n_neighbors=best_k)\n",
    "\n",
    "# 모델을 훈련 데이터에 맞춤\n",
    "best_knn.fit(X_train, y_train)\n",
    "\n",
    "# 테스트 세트에 대한 예측\n",
    "y_pred = best_knn.predict(X_test)\n",
    "\n",
    "# F1 점수 계산\n",
    "f1 = f1_score(y_test, y_pred, average='weighted')  # 또는 'binary'로 설정 가능\n",
    "\n",
    "best_k = best_params['n_neighbors']\n",
    "print(f'최적의 k 값: {best_k}')\n",
    "\n",
    "print(f'최적 모델의 F1 점수: {f1:.2f}')\n"
   ]
  },
  {
   "cell_type": "code",
   "execution_count": 24,
   "id": "2fd6734a",
   "metadata": {},
   "outputs": [
    {
     "ename": "NameError",
     "evalue": "name 'gb_grid_cv' is not defined",
     "output_type": "error",
     "traceback": [
      "\u001b[1;31m---------------------------------------------------------------------------\u001b[0m",
      "\u001b[1;31mNameError\u001b[0m                                 Traceback (most recent call last)",
      "Cell \u001b[1;32mIn[24], line 1\u001b[0m\n\u001b[1;32m----> 1\u001b[0m gb_pred \u001b[38;5;241m=\u001b[39m gb_grid_cv\u001b[38;5;241m.\u001b[39mbest_estimator_\u001b[38;5;241m.\u001b[39mpredict(test_X)\n\u001b[0;32m      2\u001b[0m gb_accuracy \u001b[38;5;241m=\u001b[39m accuracy_score(test_y,gb_pred)\n\u001b[0;32m      3\u001b[0m \u001b[38;5;28mprint\u001b[39m(\u001b[38;5;124m'\u001b[39m\u001b[38;5;124mGBM 정확도: \u001b[39m\u001b[38;5;132;01m{0:.4f}\u001b[39;00m\u001b[38;5;124m'\u001b[39m\u001b[38;5;241m.\u001b[39mformat(gv_accuracy))\n",
      "\u001b[1;31mNameError\u001b[0m: name 'gb_grid_cv' is not defined"
     ]
    }
   ],
   "source": [
    "gb_pred = gb_grid_cv.best_estimator_.predict(test_X)\n",
    "gb_accuracy = accuracy_score(test_y,gb_pred)\n",
    "print('GBM 정확도: {0:.4f}'.format(gv_accuracy))\n",
    "\n",
    "gb_grid_cv_roc_score = roc_auc_score(test_y,gb_grid_cv.predict_prova(test_X)[:,1],average='macro')\n",
    "print('GBM ROC AUC: {0:.4f}'.format(gb_grid_cv_roc_score))"
   ]
  },
  {
   "cell_type": "code",
   "execution_count": 109,
   "id": "daafee15",
   "metadata": {},
   "outputs": [
    {
     "name": "stdout",
     "output_type": "stream",
     "text": [
      "Accuracy with Manhattan distance: 0.6139705882352942\n"
     ]
    }
   ],
   "source": [
    "# 맨하탄 거리를 사용하는 KNeighborsClassifier 생성\n",
    "knn_manhattan = KNeighborsClassifier(n_neighbors=15, metric='manhattan')\n",
    "knn_manhattan.fit(X_train, y_train)\n",
    "\n",
    "# 테스트 세트에서의 정확도 계산\n",
    "accuracy = knn_manhattan.score(X_test, y_test)\n",
    "print(\"Accuracy with Manhattan distance:\", accuracy)\n"
   ]
  },
  {
   "cell_type": "code",
   "execution_count": 110,
   "id": "d9e7c332",
   "metadata": {},
   "outputs": [],
   "source": [
    "acc_test=[]\n",
    "acc_train=[]\n",
    "for i in range(1,100):\n",
    "    knn_k = KNeighborsClassifier(n_neighbors=i, metric='manhattan')\n",
    "    knn_k.fit(X_train, y_train)\n",
    "    acc_test.append(knn_k.score(X_test, y_test))\n",
    "    acc_train.append(knn_k.score(X_train, y_train))"
   ]
  },
  {
   "cell_type": "code",
   "execution_count": 111,
   "id": "4a1a359f",
   "metadata": {
    "scrolled": true
   },
   "outputs": [
    {
     "data": {
      "text/plain": [
       "[<matplotlib.lines.Line2D at 0x29be8b64f10>]"
      ]
     },
     "execution_count": 111,
     "metadata": {},
     "output_type": "execute_result"
    },
    {
     "data": {
      "image/png": "[encoded data removed]",
      "text/plain": [
       "<Figure size 640x480 with 1 Axes>"
      ]
     },
     "metadata": {},
     "output_type": "display_data"
    }
   ],
   "source": [
    "plt.plot(range(1,100), acc_test,'r')\n",
    "plt.plot(range(1,100), acc_train, 'g')"
   ]
  },
  {
   "cell_type": "markdown",
   "id": "0952ec81",
   "metadata": {},
   "source": [
    "-------------------------------------------------------------"
   ]
  },
  {
   "cell_type": "code",
   "execution_count": null,
   "id": "ccc2ad07",
   "metadata": {},
   "outputs": [],
   "source": [
    "# 선택한 독립변수들로 구성된 DataFrame 생성\n",
    "X1 = df[['alcohol', 'sulphates', 'volatile acidity', 'chlorides', 'pH', 'total sulfur dioxide']]\n",
    "\n",
    "# 종속변수\n",
    "y = df['quality']\n"
   ]
  }
 ],
 "metadata": {
  "kernelspec": {
   "display_name": "Python 3 (ipykernel)",
   "language": "python",
   "name": "python3"
  },
  "language_info": {
   "codemirror_mode": {
    "name": "ipython",
    "version": 3
   },
   "file_extension": ".py",
   "mimetype": "text/x-python",
   "name": "python",
   "nbconvert_exporter": "python",
   "pygments_lexer": "ipython3",
   "version": "3.11.4"
  }
 },
 "nbformat": 4,
 "nbformat_minor": 5
}
