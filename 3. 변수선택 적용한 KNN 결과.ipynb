{
 "cells": [
  {
   "cell_type": "code",
   "execution_count": 1,
   "id": "45532726",
   "metadata": {},
   "outputs": [],
   "source": [
    "import pandas as pd\n",
    "import numpy as np\n",
    "import seaborn as sns\n",
    "import matplotlib.pyplot as plt"
   ]
  },
  {
   "cell_type": "code",
   "execution_count": 2,
   "id": "45e4de90",
   "metadata": {},
   "outputs": [],
   "source": [
    "wine = pd.read_csv('save_total.csv')\n",
    "df = wine.copy()"
   ]
  },
  {
   "cell_type": "code",
   "execution_count": 69,
   "id": "fbbf0112",
   "metadata": {},
   "outputs": [],
   "source": [
    "X=df.drop('quality',axis=1)\n",
    "X1 = df[['alcohol', 'sulphates', 'volatile acidity', 'chlorides', 'pH', 'total sulfur dioxide']]\n",
    "y=df['quality']\n",
    "\n",
    "from sklearn.model_selection import train_test_split\n",
    "X1_train, X1_test, y_train, y_test = train_test_split(X1, y, test_size=0.2, random_state=42)\n",
    "\n",
    "from sklearn.neighbors import KNeighborsClassifier\n",
    "knn=KNeighborsClassifier(n_neighbors=76)"
   ]
  },
  {
   "cell_type": "code",
   "execution_count": 70,
   "id": "f2ff6613",
   "metadata": {},
   "outputs": [
    {
     "data": {
      "text/html": [
       "<style>#sk-container-id-18 {color: black;}#sk-container-id-18 pre{padding: 0;}#sk-container-id-18 div.sk-toggleable {background-color: white;}#sk-container-id-18 label.sk-toggleable__label {cursor: pointer;display: block;width: 100%;margin-bottom: 0;padding: 0.3em;box-sizing: border-box;text-align: center;}#sk-container-id-18 label.sk-toggleable__label-arrow:before {content: \"▸\";float: left;margin-right: 0.25em;color: #696969;}#sk-container-id-18 label.sk-toggleable__label-arrow:hover:before {color: black;}#sk-container-id-18 div.sk-estimator:hover label.sk-toggleable__label-arrow:before {color: black;}#sk-container-id-18 div.sk-toggleable__content {max-height: 0;max-width: 0;overflow: hidden;text-align: left;background-color: #f0f8ff;}#sk-container-id-18 div.sk-toggleable__content pre {margin: 0.2em;color: black;border-radius: 0.25em;background-color: #f0f8ff;}#sk-container-id-18 input.sk-toggleable__control:checked~div.sk-toggleable__content {max-height: 200px;max-width: 100%;overflow: auto;}#sk-container-id-18 input.sk-toggleable__control:checked~label.sk-toggleable__label-arrow:before {content: \"▾\";}#sk-container-id-18 div.sk-estimator input.sk-toggleable__control:checked~label.sk-toggleable__label {background-color: #d4ebff;}#sk-container-id-18 div.sk-label input.sk-toggleable__control:checked~label.sk-toggleable__label {background-color: #d4ebff;}#sk-container-id-18 input.sk-hidden--visually {border: 0;clip: rect(1px 1px 1px 1px);clip: rect(1px, 1px, 1px, 1px);height: 1px;margin: -1px;overflow: hidden;padding: 0;position: absolute;width: 1px;}#sk-container-id-18 div.sk-estimator {font-family: monospace;background-color: #f0f8ff;border: 1px dotted black;border-radius: 0.25em;box-sizing: border-box;margin-bottom: 0.5em;}#sk-container-id-18 div.sk-estimator:hover {background-color: #d4ebff;}#sk-container-id-18 div.sk-parallel-item::after {content: \"\";width: 100%;border-bottom: 1px solid gray;flex-grow: 1;}#sk-container-id-18 div.sk-label:hover label.sk-toggleable__label {background-color: #d4ebff;}#sk-container-id-18 div.sk-serial::before {content: \"\";position: absolute;border-left: 1px solid gray;box-sizing: border-box;top: 0;bottom: 0;left: 50%;z-index: 0;}#sk-container-id-18 div.sk-serial {display: flex;flex-direction: column;align-items: center;background-color: white;padding-right: 0.2em;padding-left: 0.2em;position: relative;}#sk-container-id-18 div.sk-item {position: relative;z-index: 1;}#sk-container-id-18 div.sk-parallel {display: flex;align-items: stretch;justify-content: center;background-color: white;position: relative;}#sk-container-id-18 div.sk-item::before, #sk-container-id-18 div.sk-parallel-item::before {content: \"\";position: absolute;border-left: 1px solid gray;box-sizing: border-box;top: 0;bottom: 0;left: 50%;z-index: -1;}#sk-container-id-18 div.sk-parallel-item {display: flex;flex-direction: column;z-index: 1;position: relative;background-color: white;}#sk-container-id-18 div.sk-parallel-item:first-child::after {align-self: flex-end;width: 50%;}#sk-container-id-18 div.sk-parallel-item:last-child::after {align-self: flex-start;width: 50%;}#sk-container-id-18 div.sk-parallel-item:only-child::after {width: 0;}#sk-container-id-18 div.sk-dashed-wrapped {border: 1px dashed gray;margin: 0 0.4em 0.5em 0.4em;box-sizing: border-box;padding-bottom: 0.4em;background-color: white;}#sk-container-id-18 div.sk-label label {font-family: monospace;font-weight: bold;display: inline-block;line-height: 1.2em;}#sk-container-id-18 div.sk-label-container {text-align: center;}#sk-container-id-18 div.sk-container {/* jupyter's `normalize.less` sets `[hidden] { display: none; }` but bootstrap.min.css set `[hidden] { display: none !important; }` so we also need the `!important` here to be able to override the default hidden behavior on the sphinx rendered scikit-learn.org. See: https://github.com/scikit-learn/scikit-learn/issues/21755 */display: inline-block !important;position: relative;}#sk-container-id-18 div.sk-text-repr-fallback {display: none;}</style><div id=\"sk-container-id-18\" class=\"sk-top-container\"><div class=\"sk-text-repr-fallback\"><pre>KNeighborsClassifier(n_neighbors=76)</pre><b>In a Jupyter environment, please rerun this cell to show the HTML representation or trust the notebook. <br />On GitHub, the HTML representation is unable to render, please try loading this page with nbviewer.org.</b></div><div class=\"sk-container\" hidden><div class=\"sk-item\"><div class=\"sk-estimator sk-toggleable\"><input class=\"sk-toggleable__control sk-hidden--visually\" id=\"sk-estimator-id-18\" type=\"checkbox\" checked><label for=\"sk-estimator-id-18\" class=\"sk-toggleable__label sk-toggleable__label-arrow\">KNeighborsClassifier</label><div class=\"sk-toggleable__content\"><pre>KNeighborsClassifier(n_neighbors=76)</pre></div></div></div></div></div>"
      ],
      "text/plain": [
       "KNeighborsClassifier(n_neighbors=76)"
      ]
     },
     "execution_count": 70,
     "metadata": {},
     "output_type": "execute_result"
    }
   ],
   "source": [
    "knn.fit(X1_train,y_train)"
   ]
  },
  {
   "cell_type": "code",
   "execution_count": 71,
   "id": "160fb62f",
   "metadata": {},
   "outputs": [
    {
     "data": {
      "text/plain": [
       "0.6139705882352942"
      ]
     },
     "execution_count": 71,
     "metadata": {},
     "output_type": "execute_result"
    }
   ],
   "source": [
    "knn.score(X1_test,y_test)"
   ]
  },
  {
   "cell_type": "code",
   "execution_count": 6,
   "id": "f5db271e",
   "metadata": {},
   "outputs": [],
   "source": [
    "acc_test=[]\n",
    "acc_train=[]\n",
    "for i in range(1,100):\n",
    "    knn_k = KNeighborsClassifier(n_neighbors=i)\n",
    "    knn_k.fit(X1_train, y_train)\n",
    "    acc_test.append(knn_k.score(X1_test, y_test))\n",
    "    acc_train.append(knn_k.score(X1_train, y_train))"
   ]
  },
  {
   "cell_type": "code",
   "execution_count": 7,
   "id": "e7b5f06c",
   "metadata": {
    "scrolled": false
   },
   "outputs": [
    {
     "data": {
      "text/plain": [
       "[<matplotlib.lines.Line2D at 0x20cc6da6b10>]"
      ]
     },
     "execution_count": 7,
     "metadata": {},
     "output_type": "execute_result"
    },
    {
     "data": {
      "image/png": "[encoded data removed]",
      "text/plain": [
       "<Figure size 640x480 with 1 Axes>"
      ]
     },
     "metadata": {},
     "output_type": "display_data"
    }
   ],
   "source": [
    "plt.plot(range(1,100), acc_test,'r')\n",
    "plt.plot(range(1,100), acc_train, 'g')"
   ]
  },
  {
   "cell_type": "code",
   "execution_count": 18,
   "id": "bdaf0971",
   "metadata": {},
   "outputs": [
    {
     "name": "stdout",
     "output_type": "stream",
     "text": [
      "최적의 파라미터: {'n_neighbors': 76}\n",
      "최적의 정확도: 0.60\n"
     ]
    }
   ],
   "source": [
    "from sklearn.model_selection import GridSearchCV\n",
    "\n",
    "# 하이퍼파라미터 그리드 정의\n",
    "param_grid = {'n_neighbors': range(1, 100)}\n",
    "\n",
    "# KNN 분류기 생성\n",
    "knn = KNeighborsClassifier()\n",
    "\n",
    "# GridSearchCV 객체 생성\n",
    "grid_search = GridSearchCV(knn, param_grid, cv=5, scoring='accuracy')\n",
    "\n",
    "# 그리드 서치를 데이터에 맞춤\n",
    "grid_search.fit(X1_train, y_train)\n",
    "\n",
    "# 최적의 파라미터와 최적의 정확도 얻기\n",
    "best_params = grid_search.best_params_\n",
    "best_accuracy = grid_search.best_score_\n",
    "\n",
    "print(f'최적의 파라미터: {best_params}')\n",
    "print(f'최적의 정확도: {best_accuracy:.2f}')\n"
   ]
  },
  {
   "cell_type": "code",
   "execution_count": 59,
   "id": "2b5079ff",
   "metadata": {},
   "outputs": [
    {
     "name": "stdout",
     "output_type": "stream",
     "text": [
      "Test Accuracy of Best Model: 0.6139705882352942\n"
     ]
    }
   ],
   "source": [
    "#최적의 모델로 테스트 세트에서 정확도 계산\n",
    "test_accuracy = grid_search.best_estimator_.score(X1_test, y_test)\n",
    "print(\"Test Accuracy of Best Model:\", test_accuracy)"
   ]
  },
  {
   "cell_type": "code",
   "execution_count": 60,
   "id": "a174463f",
   "metadata": {},
   "outputs": [
    {
     "name": "stdout",
     "output_type": "stream",
     "text": [
      "최적의 파라미터: {'n_neighbors': 24}\n",
      "최적의 F1 점수: 0.5565\n"
     ]
    }
   ],
   "source": [
    "from sklearn.model_selection import GridSearchCV\n",
    "from sklearn.neighbors import KNeighborsClassifier\n",
    "from sklearn.metrics import f1_score\n",
    "\n",
    "# 하이퍼파라미터 그리드 정의\n",
    "param_grid = {'n_neighbors': range(1, 100)}\n",
    "\n",
    "# KNN 분류기 생성\n",
    "knn = KNeighborsClassifier()\n",
    "\n",
    "# GridSearchCV 객체 생성\n",
    "grid_search = GridSearchCV(knn, param_grid, cv=5, scoring='f1_weighted')  # 또는 'f1_micro'로 설정 가능\n",
    "\n",
    "# 그리드 서치를 데이터에 맞춤\n",
    "grid_search.fit(X1_train, y_train)\n",
    "\n",
    "# 최적의 파라미터와 최적의 F1 점수 얻기\n",
    "best_params = grid_search.best_params_\n",
    "best_f1 = grid_search.best_score_\n",
    "\n",
    "print(f'최적의 파라미터: {best_params}')\n",
    "print(f'최적의 F1 점수: {best_f1:.4f}')\n"
   ]
  },
  {
   "cell_type": "code",
   "execution_count": 61,
   "id": "b634bd66",
   "metadata": {},
   "outputs": [
    {
     "name": "stdout",
     "output_type": "stream",
     "text": [
      "최적의 파라미터: {'n_neighbors': 76}\n",
      "최적의 F1 점수: 0.5970\n"
     ]
    }
   ],
   "source": [
    "from sklearn.model_selection import GridSearchCV\n",
    "from sklearn.neighbors import KNeighborsClassifier\n",
    "from sklearn.metrics import f1_score\n",
    "\n",
    "# 하이퍼파라미터 그리드 정의\n",
    "param_grid = {'n_neighbors': range(1, 100)}\n",
    "\n",
    "# KNN 분류기 생성\n",
    "knn = KNeighborsClassifier()\n",
    "\n",
    "# GridSearchCV 객체 생성\n",
    "grid_search = GridSearchCV(knn, param_grid, cv=5, scoring='f1_micro')  # 또는 'f1_micro'로 설정 가능\n",
    "\n",
    "# 그리드 서치를 데이터에 맞춤\n",
    "grid_search.fit(X1_train, y_train)\n",
    "\n",
    "# 최적의 파라미터와 최적의 F1 점수 얻기\n",
    "best_params = grid_search.best_params_\n",
    "best_f1 = grid_search.best_score_\n",
    "\n",
    "print(f'최적의 파라미터: {best_params}')\n",
    "print(f'최적의 F1 점수: {best_f1:.4f}')"
   ]
  },
  {
   "cell_type": "markdown",
   "id": "d1920a13",
   "metadata": {},
   "source": [
    "--------------------------------------------------------------"
   ]
  },
  {
   "cell_type": "code",
   "execution_count": null,
   "id": "daafee15",
   "metadata": {},
   "outputs": [],
   "source": [
    "# 맨하탄 거리를 사용하는 KNeighborsClassifier 생성\n",
    "knn_manhattan = KNeighborsClassifier(n_neighbors=15, metric='manhattan')\n",
    "knn_manhattan.fit(X_train, y_train)\n",
    "\n",
    "# 테스트 세트에서의 정확도 계산\n",
    "accuracy = knn_manhattan.score(X_test, y_test)\n",
    "print(\"Accuracy with Manhattan distance:\", accuracy)\n"
   ]
  },
  {
   "cell_type": "code",
   "execution_count": null,
   "id": "8f78931a",
   "metadata": {},
   "outputs": [],
   "source": [
    "acc_test=[]\n",
    "acc_train=[]\n",
    "for i in range(1,100):\n",
    "    knn_k = KNeighborsClassifier(n_neighbors=i, metric='manhattan')\n",
    "    knn_k.fit(X_train, y_train)\n",
    "    acc_test.append(knn_k.score(X_test, y_test))\n",
    "    acc_train.append(knn_k.score(X_train, y_train))"
   ]
  },
  {
   "cell_type": "code",
   "execution_count": null,
   "id": "9f86d674",
   "metadata": {
    "scrolled": true
   },
   "outputs": [],
   "source": [
    "plt.plot(range(1,100), acc_test,'r')\n",
    "plt.plot(range(1,100), acc_train, 'g')"
   ]
  },
  {
   "cell_type": "markdown",
   "id": "70a44254",
   "metadata": {},
   "source": [
    "-------------------------------------------------------------"
   ]
  }
 ],
 "metadata": {
  "kernelspec": {
   "display_name": "Python 3 (ipykernel)",
   "language": "python",
   "name": "python3"
  },
  "language_info": {
   "codemirror_mode": {
    "name": "ipython",
    "version": 3
   },
   "file_extension": ".py",
   "mimetype": "text/x-python",
   "name": "python",
   "nbconvert_exporter": "python",
   "pygments_lexer": "ipython3",
   "version": "3.11.4"
  }
 },
 "nbformat": 4,
 "nbformat_minor": 5
}
