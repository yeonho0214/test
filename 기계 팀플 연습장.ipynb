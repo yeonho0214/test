{
 "cells": [
  {
   "cell_type": "markdown",
   "id": "b024e932",
   "metadata": {},
   "source": [
    "# 2. 필요한 라이브러리 가져오기"
   ]
  },
  {
   "cell_type": "code",
   "execution_count": 17,
   "id": "b5447469",
   "metadata": {},
   "outputs": [],
   "source": [
    "import pandas as pd\n",
    "import numpy as np\n",
    "import seaborn as sns\n",
    "import matplotlib.pyplot as plt"
   ]
  },
  {
   "cell_type": "code",
   "execution_count": 18,
   "id": "8adc70b3",
   "metadata": {},
   "outputs": [],
   "source": [
    "from sklearn.preprocessing import LabelEncoder\n",
    "from sklearn.preprocessing import MinMaxScaler, RobustScaler, StandardScaler\n",
    "import plotly.express as px\n",
    "import plotly.graph_objects as go\n",
    "import plotly.io as pio\n",
    "import scipy.stats as st\n",
    "from termcolor import colored"
   ]
  },
  {
   "cell_type": "code",
   "execution_count": 19,
   "id": "e73a9add",
   "metadata": {},
   "outputs": [],
   "source": [
    "from sklearn.model_selection import train_test_split, GridSearchCV, cross_val_score\n",
    "from sklearn.metrics import confusion_matrix, accuracy_score, classification_report\n",
    "from sklearn.metrics import accuracy_score\n",
    "from sklearn.metrics import roc_auc_score, roc_curve\n",
    "\n",
    "from sklearn import model_selection\n",
    "from sklearn.neighbors import KNeighborsClassifier\n",
    "from sklearn.ensemble import GradientBoostingClassifier"
   ]
  },
  {
   "cell_type": "code",
   "execution_count": 20,
   "id": "34b2d536",
   "metadata": {},
   "outputs": [],
   "source": [
    "from sklearn.metrics import confusion_matrix, ConfusionMatrixDisplay\n",
    "import matplotlib.pyplot as plt\n",
    "from sklearn.model_selection import train_test_split\n",
    "from sklearn.neighbors import KNeighborsClassifier\n",
    "from sklearn.datasets import make_classification"
   ]
  },
  {
   "cell_type": "code",
   "execution_count": 21,
   "id": "d641836f",
   "metadata": {},
   "outputs": [
    {
     "name": "stdout",
     "output_type": "stream",
     "text": [
      "Requirement already satisfied: lightgbm in c:\\users\\stell\\anaconda3\\lib\\site-packages (4.1.0)\n",
      "Requirement already satisfied: numpy in c:\\users\\stell\\anaconda3\\lib\\site-packages (from lightgbm) (1.24.3)\n",
      "Requirement already satisfied: scipy in c:\\users\\stell\\anaconda3\\lib\\site-packages (from lightgbm) (1.10.1)\n",
      "Note: you may need to restart the kernel to use updated packages.\n"
     ]
    }
   ],
   "source": [
    "pip install lightgbm"
   ]
  },
  {
   "cell_type": "code",
   "execution_count": 22,
   "id": "4d40a2d8",
   "metadata": {},
   "outputs": [],
   "source": [
    "from lightgbm import LGBMClassifier"
   ]
  },
  {
   "cell_type": "code",
   "execution_count": 23,
   "id": "8a61e576",
   "metadata": {},
   "outputs": [],
   "source": [
    "import warnings\n",
    "warnings.filterwarnings(\"ignore\")"
   ]
  },
  {
   "cell_type": "code",
   "execution_count": 24,
   "id": "729b0818",
   "metadata": {},
   "outputs": [],
   "source": [
    "from sklearn import set_config\n",
    "set_config(print_changed_only = False)"
   ]
  },
  {
   "cell_type": "code",
   "execution_count": 25,
   "id": "a8e900c7",
   "metadata": {},
   "outputs": [
    {
     "data": {
      "image/png": "[encoded data removed]",
      "text/plain": [
       "<Figure size 3200x200 with 1 Axes>"
      ]
     },
     "metadata": {},
     "output_type": "display_data"
    }
   ],
   "source": [
    "purple = ['#491D8B', '#6929C4', '#8A3FFC', '#A56EFF',\n",
    "          '#BE95FF', '#CA96EC', '#A163CF', '#29066B',\n",
    "          '#7D3AC1', '#AF4BCE', '#DB4CB2', '#EB548C',\n",
    "          '#EC96E0', '#A2128E', '#E8D9F3', '#641811']\n",
    "\n",
    "sns.palplot(purple, size = 2)"
   ]
  },
  {
   "cell_type": "markdown",
   "id": "c8b2e9ad",
   "metadata": {},
   "source": [
    "# 3. 데이터셋 로드"
   ]
  },
  {
   "cell_type": "code",
   "execution_count": 26,
   "id": "89b2e119",
   "metadata": {},
   "outputs": [
    {
     "data": {
      "text/html": [
       "<div>\n",
       "<style scoped>\n",
       "    .dataframe tbody tr th:only-of-type {\n",
       "        vertical-align: middle;\n",
       "    }\n",
       "\n",
       "    .dataframe tbody tr th {\n",
       "        vertical-align: top;\n",
       "    }\n",
       "\n",
       "    .dataframe thead th {\n",
       "        text-align: right;\n",
       "    }\n",
       "</style>\n",
       "<table border=\"1\" class=\"dataframe\">\n",
       "  <thead>\n",
       "    <tr style=\"text-align: right;\">\n",
       "      <th></th>\n",
       "      <th>fixed acidity</th>\n",
       "      <th>volatile acidity</th>\n",
       "      <th>citric acid</th>\n",
       "      <th>residual sugar</th>\n",
       "      <th>chlorides</th>\n",
       "      <th>free sulfur dioxide</th>\n",
       "      <th>total sulfur dioxide</th>\n",
       "      <th>density</th>\n",
       "      <th>pH</th>\n",
       "      <th>sulphates</th>\n",
       "      <th>alcohol</th>\n",
       "      <th>quality</th>\n",
       "    </tr>\n",
       "  </thead>\n",
       "  <tbody>\n",
       "    <tr>\n",
       "      <th>0</th>\n",
       "      <td>7.4</td>\n",
       "      <td>0.70</td>\n",
       "      <td>0.00</td>\n",
       "      <td>1.9</td>\n",
       "      <td>0.076</td>\n",
       "      <td>11.0</td>\n",
       "      <td>34.0</td>\n",
       "      <td>0.9978</td>\n",
       "      <td>3.51</td>\n",
       "      <td>0.56</td>\n",
       "      <td>9.4</td>\n",
       "      <td>5</td>\n",
       "    </tr>\n",
       "    <tr>\n",
       "      <th>1</th>\n",
       "      <td>7.8</td>\n",
       "      <td>0.88</td>\n",
       "      <td>0.00</td>\n",
       "      <td>2.6</td>\n",
       "      <td>0.098</td>\n",
       "      <td>25.0</td>\n",
       "      <td>67.0</td>\n",
       "      <td>0.9968</td>\n",
       "      <td>3.20</td>\n",
       "      <td>0.68</td>\n",
       "      <td>9.8</td>\n",
       "      <td>5</td>\n",
       "    </tr>\n",
       "    <tr>\n",
       "      <th>2</th>\n",
       "      <td>7.8</td>\n",
       "      <td>0.76</td>\n",
       "      <td>0.04</td>\n",
       "      <td>2.3</td>\n",
       "      <td>0.092</td>\n",
       "      <td>15.0</td>\n",
       "      <td>54.0</td>\n",
       "      <td>0.9970</td>\n",
       "      <td>3.26</td>\n",
       "      <td>0.65</td>\n",
       "      <td>9.8</td>\n",
       "      <td>5</td>\n",
       "    </tr>\n",
       "    <tr>\n",
       "      <th>3</th>\n",
       "      <td>11.2</td>\n",
       "      <td>0.28</td>\n",
       "      <td>0.56</td>\n",
       "      <td>1.9</td>\n",
       "      <td>0.075</td>\n",
       "      <td>17.0</td>\n",
       "      <td>60.0</td>\n",
       "      <td>0.9980</td>\n",
       "      <td>3.16</td>\n",
       "      <td>0.58</td>\n",
       "      <td>9.8</td>\n",
       "      <td>6</td>\n",
       "    </tr>\n",
       "    <tr>\n",
       "      <th>4</th>\n",
       "      <td>7.4</td>\n",
       "      <td>0.70</td>\n",
       "      <td>0.00</td>\n",
       "      <td>1.9</td>\n",
       "      <td>0.076</td>\n",
       "      <td>11.0</td>\n",
       "      <td>34.0</td>\n",
       "      <td>0.9978</td>\n",
       "      <td>3.51</td>\n",
       "      <td>0.56</td>\n",
       "      <td>9.4</td>\n",
       "      <td>5</td>\n",
       "    </tr>\n",
       "  </tbody>\n",
       "</table>\n",
       "</div>"
      ],
      "text/plain": [
       "   fixed acidity  volatile acidity  citric acid  residual sugar  chlorides  \\\n",
       "0            7.4              0.70         0.00             1.9      0.076   \n",
       "1            7.8              0.88         0.00             2.6      0.098   \n",
       "2            7.8              0.76         0.04             2.3      0.092   \n",
       "3           11.2              0.28         0.56             1.9      0.075   \n",
       "4            7.4              0.70         0.00             1.9      0.076   \n",
       "\n",
       "   free sulfur dioxide  total sulfur dioxide  density    pH  sulphates  \\\n",
       "0                 11.0                  34.0   0.9978  3.51       0.56   \n",
       "1                 25.0                  67.0   0.9968  3.20       0.68   \n",
       "2                 15.0                  54.0   0.9970  3.26       0.65   \n",
       "3                 17.0                  60.0   0.9980  3.16       0.58   \n",
       "4                 11.0                  34.0   0.9978  3.51       0.56   \n",
       "\n",
       "   alcohol  quality  \n",
       "0      9.4        5  \n",
       "1      9.8        5  \n",
       "2      9.8        5  \n",
       "3      9.8        6  \n",
       "4      9.4        5  "
      ]
     },
     "execution_count": 26,
     "metadata": {},
     "output_type": "execute_result"
    }
   ],
   "source": [
    "wine = pd.read_csv('./winequality-red.csv')\n",
    "df = wine.copy()\n",
    "df.head()"
   ]
  },
  {
   "cell_type": "code",
   "execution_count": 27,
   "id": "af6094fd",
   "metadata": {},
   "outputs": [],
   "source": [
    "# 이름 변경\n",
    "df.rename(columns = {\"fixed acidity\": \"fixed_acidity\", \"volatile acidity\": \"volatile_acidity\",\n",
    "                    \"citric acid\": \"citric_acid\", \"residual sugar\": \"residual_sugar\",\n",
    "                    \"chlorides\": \"chlorides\", \"free sulfur dioxide\": \"free_sulfur_dioxide\",\n",
    "                    \"total sulfur dioxide\": \"total_sulfur_dioxide\"}, inplace = True)"
   ]
  },
  {
   "cell_type": "code",
   "execution_count": 31,
   "id": "111d16ef",
   "metadata": {},
   "outputs": [
    {
     "name": "stdout",
     "output_type": "stream",
     "text": [
      "<class 'pandas.core.frame.DataFrame'>\n",
      "RangeIndex: 1599 entries, 0 to 1598\n",
      "Data columns (total 12 columns):\n",
      " #   Column                Non-Null Count  Dtype  \n",
      "---  ------                --------------  -----  \n",
      " 0   fixed_acidity         1599 non-null   float64\n",
      " 1   volatile_acidity      1599 non-null   float64\n",
      " 2   citric_acid           1599 non-null   float64\n",
      " 3   residual_sugar        1599 non-null   float64\n",
      " 4   chlorides             1599 non-null   float64\n",
      " 5   free_sulfur_dioxide   1599 non-null   float64\n",
      " 6   total_sulfur_dioxide  1599 non-null   float64\n",
      " 7   density               1599 non-null   float64\n",
      " 8   pH                    1599 non-null   float64\n",
      " 9   sulphates             1599 non-null   float64\n",
      " 10  alcohol               1599 non-null   float64\n",
      " 11  quality               1599 non-null   int64  \n",
      "dtypes: float64(11), int64(1)\n",
      "memory usage: 150.0 KB\n"
     ]
    }
   ],
   "source": [
    "df.info()"
   ]
  },
  {
   "cell_type": "code",
   "execution_count": 28,
   "id": "2752adb3",
   "metadata": {},
   "outputs": [
    {
     "name": "stdout",
     "output_type": "stream",
     "text": [
      "Totally there are 0 null values in the dataset\n"
     ]
    }
   ],
   "source": [
    "# 결측치가 0이다.\n",
    "print(\"Totally there are {} null values in the dataset\".format(df.isnull().sum().sum()))"
   ]
  },
  {
   "cell_type": "code",
   "execution_count": null,
   "id": "13b3ed2c",
   "metadata": {},
   "outputs": [],
   "source": [
    "\n"
   ]
  },
  {
   "cell_type": "markdown",
   "id": "350e41ff",
   "metadata": {},
   "source": [
    "# - 와인 데이터를 사용하여 KNN 수행하는 과정\n",
    "\n",
    "# 1) 데이터 불러오기\n",
    "- Kaggle에서 제공하는 와인 데이터를 불러옵니다.\n",
    "\n",
    "# 2) 결측치 처리: \n",
    "- 데이터셋에서 결측치가 있는지 확인하고 있다면 적절한 방법으로 처리합니다. 일반적인 방법은 해당 열의 평균값, 중앙값 또는 다른 통계치로 대체하는 것입니다.\n",
    "- 이미 레드와인 데이터셋은 결측치가 0임을 확인함. 그래서 더 추가로 할 필요가 없음. \n",
    "\n",
    "# 3) 이상치 처리: \n",
    "- 이상치를 확인하고 필요한 경우 이상치를 다루는 방법을 고려합니다. 예를 들어, Z-score나 IQR을 사용하여 이상치를 식별하고 제거하거나 대체할 수 있습니다.\n",
    "\n",
    "# 3.1) 이상치 처리 방법:\n",
    "- (1) 시각화를 통한 이상치 탐지: 산점도 행렬, 상자 그림, 히트맵 등을 사용하여 데이터의 분포를 시각적으로 확인하고 이상치를 탐지할 수 있다.\n",
    "- (2) Z-Score를 이용한 이상치 식별: Z-Score를 계산하여 특정 임계값을 기준으로 Z-Score가 넘어가는 데이터를 이상치로 간주한다.\n",
    "- (3) IQR을 이용한 이상치 식별: 사분위 범위(IQR)를 계산하여 이를 이용하여 이상치를 식별한다.\n",
    "\n",
    "# 4) 데이터 탐색: \n",
    "- 데이터셋의 기초 통계 및 시각화를 사용하여 데이터의 분포를 살펴봅니다. 이는 이상한 패턴이나 데이터의 특이점을 확인하는 데 도움이 됩니다.\n",
    "- EDA\n",
    "\n",
    "\n",
    "# 5) 범주형 변수 처리: \n",
    "- 데이터에 범주형 변수가 있다면 원-핫 인코딩 또는 레이블 인코딩과 같은 방법을 사용하여 수치형 변수로 변환합니다.\n",
    "- 레드 와인 데이터셋은 연속형 변수(숫자로 측정되며 연속적인 값을 가짐.알콜, 산도, 밀도 등) 이므로 범주형 변수 처리 할 필요 없음.\n",
    "\n",
    "\n",
    "\n",
    "# 6) 데이터 표준화 또는 정규화: \n",
    "- 데이터의 스케일이 서로 다르면 알고리즘 성능에 영향을 줄 수 있습니다. 따라서 특성 스케일을 조정하기 위해 표준화 또는 정규화를 수행합니다.\n",
    "\n",
    "\n",
    "# 7) 데이터 분할: \n",
    "- 전체 데이터셋을 학습 데이터셋과 테스트 데이터셋으로 나눕니다.\n",
    "\n",
    "\n",
    "# 8) KNN 모델 적용: \n",
    "- 전처리된 데이터에 KNN 알고리즘을 적용하여 모델을 학습하고 평가합니다."
   ]
  },
  {
   "cell_type": "code",
   "execution_count": null,
   "id": "7cf22528",
   "metadata": {},
   "outputs": [],
   "source": [
    "\n"
   ]
  },
  {
   "cell_type": "markdown",
   "id": "7f12b839",
   "metadata": {},
   "source": [
    "# #gpt로 하나씩 해봄(아래)"
   ]
  },
  {
   "cell_type": "markdown",
   "id": "07269e54",
   "metadata": {},
   "source": [
    "# 3)이상치 처리"
   ]
  },
  {
   "cell_type": "code",
   "execution_count": 29,
   "id": "a49fca15",
   "metadata": {
    "scrolled": true
   },
   "outputs": [
    {
     "data": {
      "image/png": "[encoded data removed]",
      "text/plain": [
       "<Figure size 1500x2000 with 12 Axes>"
      ]
     },
     "metadata": {},
     "output_type": "display_data"
    }
   ],
   "source": [
    "# 상자 그림을 통해 이상치 확인\n",
    "\n",
    "import seaborn as sns\n",
    "import matplotlib.pyplot as plt\n",
    "import math\n",
    "# 그리드 생성\n",
    "num_cols = len(df.columns)\n",
    "num_rows = math.ceil(num_cols / 2)  # 2열로 나누어 그리기\n",
    "\n",
    "# 서로 다른 색상 직접 지정\n",
    "colors = ['#491D8B', '#8A3FFC', '#A56EFF', '#CA96EC', '#29066B', '#AF4BCE', \n",
    "          '#DB4CB2', '#EB548C', '#EC96E0', '#A2128E', '#E8D9F3', '#641811']\n",
    "\n",
    "fig, axes = plt.subplots(num_rows, 2, figsize=(15, 20))\n",
    "\n",
    "# 각 열의 boxplot을 서브플롯에 그리기\n",
    "for i, column in enumerate(df.columns):\n",
    "    row_index = i // 2\n",
    "    col_index = i % 2\n",
    "    sns.boxplot(x=df[column], ax=axes[row_index, col_index], color=colors[i % len(colors)])  # 색상 코드 직접 지정\n",
    "    axes[row_index, col_index].set_title(f'Boxplot of {column}')\n",
    "    axes[row_index, col_index].set_xlabel('Value')\n",
    "\n",
    "# 남은 subplot 숨기기\n",
    "for i in range(num_cols, num_rows * 2):\n",
    "    fig.delaxes(axes.flatten()[i])\n",
    "\n",
    "# 레이아웃 조정\n",
    "plt.tight_layout()\n",
    "plt.show()\n"
   ]
  },
  {
   "cell_type": "code",
   "execution_count": 33,
   "id": "271e5c19",
   "metadata": {},
   "outputs": [
    {
     "data": {
      "image/png": "[encoded data removed]",
      "text/plain": [
       "<Figure size 1500x2000 with 12 Axes>"
      ]
     },
     "metadata": {},
     "output_type": "display_data"
    }
   ],
   "source": [
    "# 상자 그림에서 이상치 확인\n",
    "\n",
    "import pandas as pd\n",
    "\n",
    "# 이상치 확인 함수\n",
    "def detect_outliers(data):\n",
    "    q1 = data.quantile(0.25)\n",
    "    q3 = data.quantile(0.75)\n",
    "    iqr = q3 - q1\n",
    "    lower_bound = q1 - 1.5 * iqr\n",
    "    upper_bound = q3 + 1.5 * iqr\n",
    "    outliers = (data < lower_bound) | (data > upper_bound)\n",
    "    return outliers\n",
    "\n",
    "# 상자 그림에서 이상치 확인\n",
    "import seaborn as sns\n",
    "import matplotlib.pyplot as plt\n",
    "import math\n",
    "\n",
    "# 그리드 생성\n",
    "num_cols = len(df.columns)\n",
    "num_rows = math.ceil(num_cols / 2)  # 2열로 나누어 그리기\n",
    "\n",
    "# 서로 다른 색상 직접 지정\n",
    "colors = ['#491D8B', '#8A3FFC', '#A56EFF', '#CA96EC', '#29066B', '#AF4BCE', \n",
    "          '#DB4CB2', '#EB548C', '#EC96E0', '#A2128E', '#E8D9F3', '#641811']\n",
    "\n",
    "fig, axes = plt.subplots(num_rows, 2, figsize=(15, 20))\n",
    "\n",
    "# 각 열의 boxplot을 서브플롯에 그리기\n",
    "for i, column in enumerate(df.columns):\n",
    "    row_index = i // 2\n",
    "    col_index = i % 2\n",
    "    sns.boxplot(x=df[column], ax=axes[row_index, col_index], color=colors[i % len(colors)])  # 색상 코드 직접 지정\n",
    "    axes[row_index, col_index].set_title(f'Boxplot of {column}')\n",
    "    axes[row_index, col_index].set_xlabel('Value')\n",
    "\n",
    "    # 이상치 확인\n",
    "    outliers = df[column][detect_outliers(df[column])]\n",
    "    axes[row_index, col_index].scatter(outliers.index, outliers, color='red', label='Outliers')\n",
    "\n",
    "# 남은 subplot 숨기기\n",
    "for i in range(num_cols, num_rows * 2):\n",
    "    fig.delaxes(axes.flatten()[i])\n",
    "\n",
    "# 레이아웃 조정\n",
    "plt.tight_layout()\n",
    "plt.show()\n"
   ]
  },
  {
   "cell_type": "code",
   "execution_count": 34,
   "id": "a29e0215",
   "metadata": {},
   "outputs": [
    {
     "name": "stdout",
     "output_type": "stream",
     "text": [
      "Number of outliers in each column:\n",
      "                     Outlier Count\n",
      "fixed_acidity                   49\n",
      "volatile_acidity                19\n",
      "citric_acid                      1\n",
      "residual_sugar                 155\n",
      "chlorides                      112\n",
      "free_sulfur_dioxide             30\n",
      "total_sulfur_dioxide            55\n",
      "density                         45\n",
      "pH                              35\n",
      "sulphates                       59\n",
      "alcohol                         13\n",
      "quality                         28\n"
     ]
    }
   ],
   "source": [
    "# 이상치 개수 확인\n",
    "\n",
    "# 이상치 개수를 저장할 데이터프레임 생성\n",
    "outlier_counts_df = pd.DataFrame(index=df.columns, columns=['Outlier Count'])\n",
    "\n",
    "# 각 변수에 대해 이상치 개수 계산\n",
    "for column in df.columns:\n",
    "    outliers = detect_outliers(df[column])\n",
    "    outlier_count = outliers.sum()\n",
    "    \n",
    "    # 결과 저장\n",
    "    outlier_counts_df.loc[column] = outlier_count\n",
    "\n",
    "# 결과 출력\n",
    "print(\"Number of outliers in each column:\")\n",
    "print(outlier_counts_df)\n"
   ]
  },
  {
   "cell_type": "markdown",
   "id": "80d1a7ec",
   "metadata": {},
   "source": [
    "<결과 해석>\n",
    "fixed_acidity: 49개의 이상치\n",
    "volatile_acidity: 19개의 이상치\n",
    "citric_acid: 1개의 이상치\n",
    "residual_sugar: 155개의 이상치\n",
    "chlorides: 112개의 이상치\n",
    "free_sulfur_dioxide: 30개의 이상치\n",
    "total_sulfur_dioxide: 55개의 이상치\n",
    "density: 45개의 이상치\n",
    "pH: 35개의 이상치\n",
    "sulphates: 59개의 이상치\n",
    "alcohol: 13개의 이상치\n",
    "quality: 28개의 이상치\n",
    "\n",
    "- 이상치 개수가 높은 변수는 해당 변수의 값이 다른 값들과 크게 벗어난 경우가 많다는 것을 나타냅니다. 따라서 모델을 학습시키기 전에 이상치에 대한 처리를 고려해볼 필요가 있습니다. 예를 들어, 이상치를 제거하거나 대체할 수 있습니다."
   ]
  },
  {
   "cell_type": "code",
   "execution_count": 35,
   "id": "b798b069",
   "metadata": {},
   "outputs": [],
   "source": [
    "# 이상치 처리 (IQR을 이용해서 이상치 식별)\n",
    "\n",
    "# 이상치를 제거할 열 선택 (예: fixed_acidity)\n",
    "column_name = 'fixed_acidity'\n",
    "\n",
    "# IQR 계산\n",
    "Q1 = df[column_name].quantile(0.25)\n",
    "Q3 = df[column_name].quantile(0.75)\n",
    "IQR = Q3 - Q1\n",
    "\n",
    "# 이상치 경계 정의\n",
    "lower_bound = Q1 - 1.5 * IQR\n",
    "upper_bound = Q3 + 1.5 * IQR\n",
    "\n",
    "# 이상치 제거\n",
    "df_no_outliers = df[(df[column_name] >= lower_bound) & (df[column_name] <= upper_bound)]\n"
   ]
  },
  {
   "cell_type": "code",
   "execution_count": 36,
   "id": "ac3579f4",
   "metadata": {},
   "outputs": [
    {
     "name": "stdout",
     "output_type": "stream",
     "text": [
      "Shape before removing outliers: (1599, 12)\n",
      "\n",
      "Outliers removed in 'fixed_acidity':\n",
      "count    1550.000000\n",
      "mean        8.162581\n",
      "std         1.513582\n",
      "min         4.600000\n",
      "25%         7.100000\n",
      "50%         7.900000\n",
      "75%         9.100000\n",
      "max        12.300000\n",
      "Name: fixed_acidity, dtype: float64\n",
      "\n",
      "Outliers removed in 'volatile_acidity':\n",
      "count    1580.000000\n",
      "mean        0.520554\n",
      "std         0.166581\n",
      "min         0.120000\n",
      "25%         0.390000\n",
      "50%         0.520000\n",
      "75%         0.630000\n",
      "max         1.010000\n",
      "Name: volatile_acidity, dtype: float64\n",
      "\n",
      "Outliers removed in 'citric_acid':\n",
      "count    1598.000000\n",
      "mean        0.270519\n",
      "std         0.194006\n",
      "min         0.000000\n",
      "25%         0.090000\n",
      "50%         0.260000\n",
      "75%         0.420000\n",
      "max         0.790000\n",
      "Name: citric_acid, dtype: float64\n",
      "\n",
      "Outliers removed in 'residual_sugar':\n",
      "count    1444.000000\n",
      "mean        2.179848\n",
      "std         0.449141\n",
      "min         0.900000\n",
      "25%         1.900000\n",
      "50%         2.100000\n",
      "75%         2.500000\n",
      "max         3.650000\n",
      "Name: residual_sugar, dtype: float64\n",
      "\n",
      "Outliers removed in 'chlorides':\n",
      "count    1487.000000\n",
      "mean        0.078756\n",
      "std         0.014865\n",
      "min         0.041000\n",
      "25%         0.070000\n",
      "50%         0.078000\n",
      "75%         0.087000\n",
      "max         0.119000\n",
      "Name: chlorides, dtype: float64\n",
      "\n",
      "Outliers removed in 'free_sulfur_dioxide':\n",
      "count    1569.000000\n",
      "mean       15.186106\n",
      "std         9.226586\n",
      "min         1.000000\n",
      "25%         7.000000\n",
      "50%        13.000000\n",
      "75%        21.000000\n",
      "max        42.000000\n",
      "Name: free_sulfur_dioxide, dtype: float64\n",
      "\n",
      "Outliers removed in 'total_sulfur_dioxide':\n",
      "count    1544.000000\n",
      "mean       42.997409\n",
      "std        27.214797\n",
      "min         6.000000\n",
      "25%        21.000000\n",
      "50%        37.000000\n",
      "75%        59.000000\n",
      "max       122.000000\n",
      "Name: total_sulfur_dioxide, dtype: float64\n",
      "\n",
      "Outliers removed in 'density':\n",
      "count    1554.000000\n",
      "mean        0.996735\n",
      "std         0.001667\n",
      "min         0.992350\n",
      "25%         0.995620\n",
      "50%         0.996745\n",
      "75%         0.997800\n",
      "max         1.001000\n",
      "Name: density, dtype: float64\n",
      "\n",
      "Outliers removed in 'pH':\n",
      "count    1564.000000\n",
      "mean        3.308772\n",
      "std         0.140498\n",
      "min         2.930000\n",
      "25%         3.210000\n",
      "50%         3.310000\n",
      "75%         3.400000\n",
      "max         3.680000\n",
      "Name: pH, dtype: float64\n",
      "\n",
      "Outliers removed in 'sulphates':\n",
      "count    1540.000000\n",
      "mean        0.636416\n",
      "std         0.120963\n",
      "min         0.330000\n",
      "25%         0.550000\n",
      "50%         0.620000\n",
      "75%         0.710000\n",
      "max         0.990000\n",
      "Name: sulphates, dtype: float64\n",
      "\n",
      "Outliers removed in 'alcohol':\n",
      "count    1586.000000\n",
      "mean       10.394378\n",
      "std         1.021412\n",
      "min         8.400000\n",
      "25%         9.500000\n",
      "50%        10.100000\n",
      "75%        11.000000\n",
      "max        13.500000\n",
      "Name: alcohol, dtype: float64\n",
      "\n",
      "Outliers removed in 'quality':\n",
      "count    1571.000000\n",
      "mean        5.625716\n",
      "std         0.745227\n",
      "min         4.000000\n",
      "25%         5.000000\n",
      "50%         6.000000\n",
      "75%         6.000000\n",
      "max         7.000000\n",
      "Name: quality, dtype: float64\n",
      "\n",
      "Shape after removing outliers: (1550, 12)\n"
     ]
    }
   ],
   "source": [
    "# 이상치 처리후 변화 확인\n",
    "\n",
    "# 이상치를 제거하기 전 데이터프레임 확인\n",
    "print(\"Shape before removing outliers:\", df.shape)\n",
    "\n",
    "# 각 변수에 대해 이상치 제거 후의 통계적 정보 확인\n",
    "for column_name in df.columns:\n",
    "    Q1 = df[column_name].quantile(0.25)\n",
    "    Q3 = df[column_name].quantile(0.75)\n",
    "    IQR = Q3 - Q1\n",
    "    lower_bound = Q1 - 1.5 * IQR\n",
    "    upper_bound = Q3 + 1.5 * IQR\n",
    "\n",
    "    # 이상치가 제거된 데이터프레임\n",
    "    outliers_removed_df = df[(df[column_name] >= lower_bound) & (df[column_name] <= upper_bound)]\n",
    "\n",
    "    # 결과 출력\n",
    "    print(f\"\\nOutliers removed in '{column_name}':\")\n",
    "    print(outliers_removed_df[column_name].describe())\n",
    "\n",
    "# 이상치를 제거한 후 데이터프레임 확인\n",
    "print(\"\\nShape after removing outliers:\", df_no_outliers.shape)\n"
   ]
  },
  {
   "cell_type": "markdown",
   "id": "945abfe0",
   "metadata": {},
   "source": [
    "<코딩 이유>\n",
    "- 이상치 처리후 변수들이 어떻게 변했는지 알고 싶었음.\n",
    "\n",
    "<결과 해석> - ex)fixed acidity\n",
    "1. Shape before removing outliers: 처음에는 1599개의 행과 12개의 열이 있었으며, 모든 데이터를 포함한 원본 데이터프레임의 크기입니다.\n",
    "\n",
    "2. Shape after removing outliers: 이상치를 제거한 후에는 1550개의 행과 12개의 열이 남았습니다.\n",
    "- 원래 1599개였는데 이상치 49개를 제거해서 1550개가 남음\n",
    "\n",
    "3. Outliers removed in 'fixed_acidity': 'fixed_acidity' 열에 대한 이상치를 제거한 결과를 보여줍니다.\n",
    "- count: 이상치가 제거된 후의 데이터 개수입니다.\n",
    "- mean: 이상치가 제거된 후의 'fixed_acidity' 열의 평균 값입니다.\n",
    "- std: 이상치가 제거된 후의 'fixed_acidity' 열의 표준 편차입니다.\n",
    "- min: 이상치가 제거된 후의 'fixed_acidity' 열에서의 최솟값입니다.\n",
    "- 25%, 50%, 75%: 각각 제거된 후의 'fixed_acidity' 열의 25번째 백분위수, 중앙값(50번째 백분위수), 75번째 백분위수입니다.\n",
    "- max: 이상치가 제거된 후의 'fixed_acidity' 열에서의 최댓값입니다.\n",
    "- 이 결과를 통해 이상치를 제거한 후의 'fixed_acidity' 열이 어떻게 변했는지에 대한 통계적인 정보를 확인할 수 있습니다.\n"
   ]
  },
  {
   "cell_type": "markdown",
   "id": "4c577f6b",
   "metadata": {},
   "source": [
    "# 4) EDA"
   ]
  },
  {
   "cell_type": "markdown",
   "id": "2a6794ab",
   "metadata": {},
   "source": [
    "- 통합본 참고"
   ]
  },
  {
   "cell_type": "markdown",
   "id": "59336583",
   "metadata": {},
   "source": [
    "# 6) 데이터 표준화(Standardization)"
   ]
  },
  {
   "cell_type": "markdown",
   "id": "d457432e",
   "metadata": {},
   "source": [
    "- 레드와인 데이터셋을 표준화하기 위해서는 주로 Z-score 표준화를 사용함.\n",
    "- Z-score은 각 값이 평균에서 얼마나 떨어져 있는지를 나타내는 통계적 측도임.\n",
    "- 아래 코드가 Z-score\n",
    "- 이 코드를 사용하면 데이터셋의 모든 특성이 Z-score 표준화되어 평균이 0, 표준편차가 1이 되도록 조정됩니다."
   ]
  },
  {
   "cell_type": "markdown",
   "id": "d259dc2a",
   "metadata": {},
   "source": [
    "<데이터 표준화를 하지 않을 경우>\n",
    "- 각 특성의 스케일이 다르기 때문에 알고리즘 성능에 부정적인 영향을 미칠 수 있습니다.\n",
    "- 표준화는 각 특성의 평균을 0으로, 표준 편차를 1로 만들어주는 과정이며, 이를 통해 데이터의 분포를 표준 정규분포에 가깝게 만듭니다.\n",
    "\n",
    "- 결론: 표준화를 수행하지 않으면 각 특성 간의 스케일 차이가 크게 나타날 수 있습니다. 일부 특성이 다른 특성에 비해 훨씬 큰 값을 가지면, 해당 특성이 모델의 학습에 지배적인 역할을 할 수 있습니다. 이는 모델이 일부 특성에 민감하게 반응하고 다른 특성은 무시하는 결과를 낳을 수 있습니다. 이러한 이슈를 방지하기 위해 데이터 표준화를 수행합니다."
   ]
  },
  {
   "cell_type": "code",
   "execution_count": 39,
   "id": "25166450",
   "metadata": {},
   "outputs": [
    {
     "name": "stdout",
     "output_type": "stream",
     "text": [
      "   fixed_acidity  volatile_acidity  citric_acid  residual_sugar  chlorides  \\\n",
      "0      -0.528360          0.961877    -1.391472       -0.453218  -0.243707   \n",
      "1      -0.298547          1.967442    -1.391472        0.043416   0.223875   \n",
      "2      -0.298547          1.297065    -1.186070       -0.169427   0.096353   \n",
      "3       1.654856         -1.384443     1.484154       -0.453218  -0.264960   \n",
      "4      -0.528360          0.961877    -1.391472       -0.453218  -0.243707   \n",
      "\n",
      "   free_sulfur_dioxide  total_sulfur_dioxide   density        pH  sulphates  \\\n",
      "0            -0.466193             -0.379133  0.558274  1.288643  -0.579207   \n",
      "1             0.872638              0.624363  0.028261 -0.719933   0.128950   \n",
      "2            -0.083669              0.229047  0.134264 -0.331177  -0.048089   \n",
      "3             0.107592              0.411500  0.664277 -0.979104  -0.461180   \n",
      "4            -0.466193             -0.379133  0.558274  1.288643  -0.579207   \n",
      "\n",
      "    alcohol   quality  \n",
      "0 -0.960246 -0.787823  \n",
      "1 -0.584777 -0.787823  \n",
      "2 -0.584777 -0.787823  \n",
      "3 -0.584777  0.450848  \n",
      "4 -0.960246 -0.787823  \n"
     ]
    }
   ],
   "source": [
    "from sklearn.preprocessing import StandardScaler\n",
    "\n",
    "# StandardScaler 객체 생성\n",
    "scaler = StandardScaler()\n",
    "\n",
    "# 모든 열에 대해 표준화 수행\n",
    "df_standardized = scaler.fit_transform(df)\n",
    "df_standardized = pd.DataFrame(df_standardized, columns=df.columns)\n",
    "\n",
    "# 표준화된 데이터 확인\n",
    "print(df_standardized.head())\n"
   ]
  },
  {
   "cell_type": "markdown",
   "id": "c98e9436",
   "metadata": {},
   "source": [
    "<코드 해석>\n",
    "-'fixed_acidity': 열의 첫 번째 값은 -0.528360입니다. 이는 'fixed_acidity' 특성이 해당 열의 평균에서 약 0.53 표준편차만큼 낮다는 것을 의미합니다. 마찬가지로 각 열에 대한 Z-score를 해석할 수 있습니다.\n",
    "- 'pH': 열의 Z-score는 1.288643입니다. 이 값은 'pH' 특성이 해당 열의 평균에서 약 1.29 표준편차만큼 높다는 것을 나타냅니다. Z-score가 양수이므로 'pH' 값은 평균보다 큽니다. 따라서 해당 와인 샘플의 pH는 데이터셋의 다른 샘플보다 좀 더 높은 수준으로 나타납니다."
   ]
  },
  {
   "cell_type": "markdown",
   "id": "51ac7703",
   "metadata": {},
   "source": [
    "# 6) 데이터 정규화"
   ]
  },
  {
   "cell_type": "markdown",
   "id": "d942e512",
   "metadata": {},
   "source": [
    "- 정규화는 데이터를 특정 범위로 조절하여 스케일을 조절하는 프로세스\n",
    "- 즉, 정규화된 데이터는 각 특성의 상대적인 중요성을 더 잘 이해하고 모델이 더 잘 수렴하도록 도움.\n",
    "- 일반적으로 정규화는 데이터를 [0, 1] 범위로 조절하는데, Min-Max Scaling\n",
    "- 아래는 Min-Max Scaling을 사용하여 데이터를 정규화하는 코드"
   ]
  },
  {
   "cell_type": "markdown",
   "id": "17c1bd0b",
   "metadata": {},
   "source": [
    "<정규화 하지 않았을때>\n",
    "- 정규화를 수행하지 않으면 각 열의 값이 그대로 유지되며, 스케일이 서로 다른 특성 간에는 비교가 어려울 수 있음\n",
    "- 일부 머신러닝 알고리즘은 특성 간의 스케일 차이에 민감하게 반응하여, 정규화를 통해 특성들을 일정한 범위로 조절하는 것이 모델 성능 향상에 도움이 될 수 있다.\n",
    "\n",
    "- 결론: 정규화를 하지 않을 경우, 어떤 특성은 큰 값을 가지고 있을 수 있고, 다른 특성은 작은 값을 가지는 등의 상황이 발생할 수 있습니다. 이로 인해 학습 알고리즘이 특정 특성에 더 민감하게 반응할 수 있으며, 이는 모델의 성능을 저하시킬 수 있습니다. 정규화를 통해 특성의 값들을 일정한 범위로 조절하면, 모델이 특성들 간의 상대적인 중요성을 더 잘 이해할 수 있게 됩니다.\n"
   ]
  },
  {
   "cell_type": "code",
   "execution_count": 40,
   "id": "108c5f08",
   "metadata": {},
   "outputs": [
    {
     "name": "stdout",
     "output_type": "stream",
     "text": [
      "   fixed_acidity  volatile_acidity  citric_acid  residual_sugar  chlorides  \\\n",
      "0       0.247788          0.397260         0.00        0.068493   0.106845   \n",
      "1       0.283186          0.520548         0.00        0.116438   0.143573   \n",
      "2       0.283186          0.438356         0.04        0.095890   0.133556   \n",
      "3       0.584071          0.109589         0.56        0.068493   0.105175   \n",
      "4       0.247788          0.397260         0.00        0.068493   0.106845   \n",
      "\n",
      "   free_sulfur_dioxide  total_sulfur_dioxide   density        pH  sulphates  \\\n",
      "0             0.140845              0.098940  0.567548  0.606299   0.137725   \n",
      "1             0.338028              0.215548  0.494126  0.362205   0.209581   \n",
      "2             0.197183              0.169611  0.508811  0.409449   0.191617   \n",
      "3             0.225352              0.190813  0.582232  0.330709   0.149701   \n",
      "4             0.140845              0.098940  0.567548  0.606299   0.137725   \n",
      "\n",
      "    alcohol  quality  \n",
      "0  0.153846      0.4  \n",
      "1  0.215385      0.4  \n",
      "2  0.215385      0.4  \n",
      "3  0.215385      0.6  \n",
      "4  0.153846      0.4  \n"
     ]
    }
   ],
   "source": [
    "from sklearn.preprocessing import MinMaxScaler\n",
    "\n",
    "# MinMaxScaler 객체 생성\n",
    "scaler = MinMaxScaler()\n",
    "\n",
    "# 모든 열에 대해 정규화 수행\n",
    "df_normalized = scaler.fit_transform(df)\n",
    "df_normalized = pd.DataFrame(df_normalized, columns=df.columns)\n",
    "\n",
    "# 정규화된 데이터 확인\n",
    "print(df_normalized.head())\n"
   ]
  },
  {
   "cell_type": "markdown",
   "id": "28a296b7",
   "metadata": {},
   "source": [
    "<결과 해석>\n",
    "- fixed_acidity 열의 값이 0.247788로 표시되었습니다. 이는 해당 열의 최소값과 최대값을 기준으로 특성 값이 0에서 1 사이의 범위에 속한다는 것을 의미\n"
   ]
  },
  {
   "cell_type": "markdown",
   "id": "25346a99",
   "metadata": {},
   "source": [
    "# 7) 데이터 분할"
   ]
  },
  {
   "cell_type": "markdown",
   "id": "73090e92",
   "metadata": {},
   "source": [
    "- 데이터를 분할하는 것은 주로 학습 데이터와 테스트 데이터로 나누는 과정\n",
    "- 이를 통해 모델을 학습하고 나서 모델의 성능을 평가할 수 있습니다.\n",
    "- 아래는 데이터를 학습 데이터와 테스트 데이터로 분할하는 간단한 코드입니다."
   ]
  },
  {
   "cell_type": "code",
   "execution_count": 41,
   "id": "d663ca91",
   "metadata": {},
   "outputs": [
    {
     "name": "stdout",
     "output_type": "stream",
     "text": [
      "Training set shape: (1279, 11) (1279,)\n",
      "Test set shape: (320, 11) (320,)\n"
     ]
    }
   ],
   "source": [
    "from sklearn.model_selection import train_test_split\n",
    "\n",
    "# Features (독립 변수)와 Target (종속 변수)로 데이터를 나눕니다.\n",
    "X = df_standardized.drop('quality', axis=1)  # 'quality' 열을 제외한 나머지 열은 Features\n",
    "y = df_standardized['quality']  # 'quality' 열은 Target\n",
    "\n",
    "# 학습 데이터와 테스트 데이터로 나눕니다.\n",
    "X_train, X_test, y_train, y_test = train_test_split(X, y, test_size=0.2, random_state=42)\n",
    "\n",
    "# 나눈 데이터의 크기 확인\n",
    "print(\"Training set shape:\", X_train.shape, y_train.shape)\n",
    "print(\"Test set shape:\", X_test.shape, y_test.shape)\n"
   ]
  },
  {
   "cell_type": "markdown",
   "id": "59d6b426",
   "metadata": {},
   "source": [
    "<코드 해석>\n",
    "- test_size는 테스트 데이터의 비율을 나타냅니다. 일반적으로 0.2 또는 0.3 정도로 설정하는 것이 일반적입니다. \n",
    "- random_state는 데이터를 나눌 때 발생하는 난수를 고정하기 위한 값으로, 동일한 데이터셋에서 항상 같은 분할을 얻기 위해 사용됩니다.이는 실험의 재현성을 확보하고 코드 실행 결과의 일관성을 유지하는 데 도움이 됩니다.특히 데이터를 학습 및 테스트 세트로 분할할 때 random_state를 고정하면 같은 데이터셋을 얻을 수 있습니다.\n",
    "-  random_state를 42로 설정한 이유: 숫자 42는 임의로 선택된 것이 아니라, \"은하수를 근거로 한 우주인들의 뜻 깊은 수\"나 \"인생, 우주, 그리고 모든 것에 대한 궁극적인 해답\" 등의 의미를 지닌 숫자로 알려져 있어, 개발자들 사이에서 재미로 사용되곤 합니다."
   ]
  },
  {
   "cell_type": "markdown",
   "id": "9b45d6d9",
   "metadata": {},
   "source": [
    "<결과 해석>\n",
    "* Training set shape: (1279, 11) (1279,):\n",
    "- 학습 세트는 총 1279개의 샘플이 있고 각 샘플은 11개의 특성으로 이루어져 있습니다.\n",
    "- (1279, 11)은 학습 데이터의 모양(shape)을 나타냅니다.\n",
    "- (1279,)는 학습 데이터의 레이블(shape)을 나타냅니다. 이 경우, 각 샘플에 대한 정답(레이블)이 있는 것으로 보입니다.\n",
    "\n",
    "* Test set shape: (320, 11) (320,):\n",
    "- 테스트 세트는 총 320개의 샘플이 있고 각 샘플은 11개의 특성으로 이루어져 있습니다.\n",
    "- (320, 11)은 테스트 데이터의 모양(shape)을 나타냅니다.\n",
    "- (320,)는 테스트 데이터의 레이블(shape)을 나타냅니다. 이 경우, 테스트 데이터의 샘플에 대한 정답(레이블)이 있는 것으로 보입니다."
   ]
  },
  {
   "cell_type": "markdown",
   "id": "199036e1",
   "metadata": {},
   "source": [
    "# +)변수 선택"
   ]
  },
  {
   "cell_type": "markdown",
   "id": "9619399c",
   "metadata": {},
   "source": [
    "<변수 선택 이유>\n",
    "- 변수 선택은 모델의 정확도를 향상시키는 데 도움이 될 수 있음.\n",
    "- 특히, KNN과 같은 모델에서는 모든 변수를 사용하는 것이 항상 최선이 아닐 수 있음.\n",
    "- 몇가지 관련이 없거나 중복되는 변수가 있다면 모델의 복잡성이 증가할 뿐만 아니라 예측 성능이 저하될 수 있음\n",
    "\n",
    "<변수 선택 방법>\n",
    "- 상관 분석: 변수 간 상관 관계를 확인하고, 서로 강하게 연관된 변수들을 제거합니다.\n",
    "- 피처 중요도: 모델 학습 후 각 변수의 중요도를 확인하고 중요하지 않은 변수를 제거합니다.\n",
    "- 재귀적 특성 제거 (Recursive Feature Elimination, RFE): 모델을 반복적으로 학습하고 중요하지 않은 변수를 제거합니다.\n",
    "- 변수 중요도 기반 선택: 트리 기반 모델에서 변수 중요도를 기반으로 변수를 선택합니다.\n",
    "- 단일 변수 선택: 각 변수를 개별적으로 모델링하여 중요한 변수를 선택합니다.\n",
    "\n",
    "<결론>\n",
    "- 선택한 변수의 수를 줄이면 모델의 복잡성이 감소하고, 훈련 시간이 단축되며, 모델이 새로운 데이터에 대해 더 잘 일반화될 수 있습니다. 그러나 어떤 변수를 선택할지는 데이터와 모델에 따라 다르므로 여러 가지 방법을 시도해보고 최상의 결과를 얻는 것이 중요합니다."
   ]
  },
  {
   "cell_type": "markdown",
   "id": "fe407fb0",
   "metadata": {},
   "source": [
    "# +.1) 변수 선택 - 피처 중요도"
   ]
  },
  {
   "cell_type": "code",
   "execution_count": 43,
   "id": "b7d4a8ae",
   "metadata": {},
   "outputs": [
    {
     "name": "stdout",
     "output_type": "stream",
     "text": [
      "Selected features: Index(['alcohol', 'sulphates', 'volatile_acidity', 'total_sulfur_dioxide'], dtype='object')\n"
     ]
    }
   ],
   "source": [
    "from sklearn.ensemble import RandomForestRegressor\n",
    "\n",
    "# RandomForestRegressor 모델 생성\n",
    "model = RandomForestRegressor(random_state=42)\n",
    "\n",
    "# 모든 변수를 사용하여 모델 학습\n",
    "model.fit(X_train, y_train)\n",
    "\n",
    "# 피처 중요도 확인\n",
    "feature_importances = model.feature_importances_\n",
    "\n",
    "# 중요도가 높은 순으로 정렬된 특성의 인덱스 확인\n",
    "important_indices = feature_importances.argsort()[-4:][::-1]\n",
    "\n",
    "# 선택된 변수 확인\n",
    "selected_features = X_train.columns[important_indices]\n",
    "\n",
    "# 선택된 변수 출력\n",
    "print(\"Selected features:\", selected_features)\n",
    "\n"
   ]
  },
  {
   "cell_type": "markdown",
   "id": "105a9eb1",
   "metadata": {},
   "source": [
    "<코드 해석>\n",
    "- 아래 코드는 피처 중요도를 활용하여 변수를 선택해보았음.\n",
    "- 위 코드에서 RandomForestRegressor를 사용하여 회귀 모델을 만들고, 피처 중요도를 확인하여 변수를 선택합니다. \n",
    "- 중요도가 높은 순으로 변수를 선택합니다. 선택된 변수를 확인해보고, 이를 사용하여 모델을 다시 학습할 수 있습니다."
   ]
  },
  {
   "cell_type": "markdown",
   "id": "752df686",
   "metadata": {},
   "source": [
    "<결과 해석>\n",
    "- RandomForestRegressor의 피처 중요도는 각 피처가 모델에 얼마나 기여하는지를 나타내는 값입니다. 중요도가 높은 피처일수록 모델의 예측에 큰 영향을 미치는 특성이라고 해석할 수 있습니다.\n",
    "- 피처 중요도: alcohol', 'sulphates', 'volatile_acidity', 'total_sulfur_dioxide'"
   ]
  },
  {
   "cell_type": "markdown",
   "id": "6fb5a72a",
   "metadata": {},
   "source": [
    "# +.1.1) 8)피처 중요도에 따른 KNN"
   ]
  },
  {
   "cell_type": "markdown",
   "id": "41095acd",
   "metadata": {},
   "source": [
    "<KNN 측정 방법>\n",
    "- Euclidean Distance (유클리드 거리): 이미 설명한 대로 두 점 간의 직선 거리를 측정합니다.\n",
    "- 주의점(Manhattan Distance와 차이점): Euclidean 거리는 각 차원 간의 차이를 제곱하여 계산하므로 작은 차이에 민감하게 반응\n",
    "\n",
    "- Manhattan Distance (맨하탄 거리 또는 L1 거리): 좌표 간의 각 차원의 차이의 절대값을 모두 더한 값으로 측정합니다.\n",
    "- 주의점(Euclidean Distance와 차이점):Manhattan 거리는 각 차원 간의 차이의 절대값을 합하여 계산하므로 더 큰 차이에 민감하게 반응합니다.\n",
    "\n",
    "- Minkowski Distance (민코프스키 거리): 일반화된 거리 측정 방법으로, Euclidean Distance와 Manhattan Distance를 모두 포함합니다. p라는 파라미터를 조절하여 여러 거리 측정 방법을 사용할 수 있습니다. p=2일 때는 Euclidean Distance, p=1일 때는 Manhattan Distance가 됩니다.\n",
    "\n",
    "- Chebyshev Distance (체비셰프 거리): 두 점 간의 각 차원의 차이 중에서 가장 큰 차이를 측정합니다.\n",
    "\n",
    "- Hamming Distance (해밍 거리): 주로 범주형 데이터에서 사용되며, 두 문자열 간의 다른 비트의 개수를 세어 거리를 측정합니다.\n",
    "- 참고: Hamming Distance는 이진 데이터에 대해서만 적용 가능하며, 다른 데이터 유형에는 사용할 수 없습니다. 즉, 데이터가 이진 형태여야 합니다. \n",
    "\n",
    "\n",
    "- 그래서 Hamming Distance는 제외한 4개만 거리 측정 해봄."
   ]
  },
  {
   "cell_type": "code",
   "execution_count": 49,
   "id": "0d6e4c94",
   "metadata": {},
   "outputs": [
    {
     "name": "stdout",
     "output_type": "stream",
     "text": [
      "Euclidean 거리: 1.6311\n",
      "Manhattan 거리: 3.0927\n",
      "Minkowski 거리: 1.3454\n",
      "Chebyshev 거리: 1.0056\n"
     ]
    }
   ],
   "source": [
    "import numpy as np\n",
    "from scipy.spatial import distance\n",
    "\n",
    "# 예제 데이터\n",
    "point1 = np.array([df['alcohol'][0], df['sulphates'][0], df['volatile_acidity'][0], df['total_sulfur_dioxide'][0]])\n",
    "point2 = np.array([df['alcohol'][1], df['sulphates'][1], df['volatile_acidity'][1], df['total_sulfur_dioxide'][1]])\n",
    "\n",
    "# Euclidean 거리 계산 함수\n",
    "def euclidean_distance_scipy(x1, x2):\n",
    "    return distance.euclidean(x1, x2)\n",
    "\n",
    "# Manhattan 거리 계산 함수\n",
    "def manhattan_distance_scipy(x1, x2):\n",
    "    return distance.cityblock(x1, x2)\n",
    "\n",
    "# Minkowski 거리 계산 함수\n",
    "def minkowski_distance_scipy(x1, x2, p):\n",
    "    return distance.minkowski(x1, x2, p)\n",
    "\n",
    "# Chebyshev 거리 계산 함수\n",
    "def chebyshev_distance_scipy(x1, x2):\n",
    "    return distance.chebyshev(x1, x2)\n",
    "\n",
    "# 거리 계산 및 출력\n",
    "euclidean_dist_scipy = euclidean_distance_scipy(point1, point2)\n",
    "manhattan_dist_scipy = manhattan_distance_scipy(point1, point2)\n",
    "minkowski_dist_scipy = minkowski_distance_scipy(point1, point2, 3)\n",
    "chebyshev_dist_scipy = chebyshev_distance_scipy(point1, point2)\n",
    "\n",
    "print(f'Euclidean 거리: {euclidean_dist_scipy:.4f}')\n",
    "print(f'Manhattan 거리: {manhattan_dist_scipy:.4f}')\n",
    "print(f'Minkowski 거리: {minkowski_dist_scipy:.4f}')\n",
    "print(f'Chebyshev 거리: {chebyshev_dist_scipy:.4f}')\n"
   ]
  },
  {
   "cell_type": "code",
   "execution_count": 46,
   "id": "77649c36",
   "metadata": {},
   "outputs": [
    {
     "name": "stdout",
     "output_type": "stream",
     "text": [
      "Mean Squared Error (Euclidean Distance): 0.6590\n",
      "Mean Squared Error (Manhattan Distance): 0.6585\n",
      "Mean Squared Error (Minkowski Distance): 0.6590\n",
      "Mean Squared Error (Chebyshev Distance): 0.6745\n"
     ]
    }
   ],
   "source": [
    "from sklearn.neighbors import KNeighborsRegressor\n",
    "from sklearn.metrics import mean_squared_error\n",
    "\n",
    "# KNN 모델 정의\n",
    "knn_euclidean = KNeighborsRegressor(n_neighbors=3, metric='euclidean')\n",
    "knn_manhattan = KNeighborsRegressor(n_neighbors=3, metric='manhattan')\n",
    "knn_minkowski = KNeighborsRegressor(n_neighbors=3, metric='minkowski')\n",
    "knn_chebyshev = KNeighborsRegressor(n_neighbors=3, metric='chebyshev')\n",
    "\n",
    "# 모델 학습\n",
    "knn_euclidean.fit(X_train[selected_features], y_train)\n",
    "knn_manhattan.fit(X_train[selected_features], y_train)\n",
    "knn_minkowski.fit(X_train[selected_features], y_train)\n",
    "knn_chebyshev.fit(X_train[selected_features], y_train)\n",
    "\n",
    "# 예측\n",
    "y_pred_euclidean = knn_euclidean.predict(X_test[selected_features])\n",
    "y_pred_manhattan = knn_manhattan.predict(X_test[selected_features])\n",
    "y_pred_minkowski = knn_minkowski.predict(X_test[selected_features])\n",
    "y_pred_chebyshev = knn_chebyshev.predict(X_test[selected_features])\n",
    "\n",
    "# 평균 제곱 오차(Mean Squared Error) 출력\n",
    "mse_euclidean = mean_squared_error(y_test, y_pred_euclidean)\n",
    "mse_manhattan = mean_squared_error(y_test, y_pred_manhattan)\n",
    "mse_minkowski = mean_squared_error(y_test, y_pred_minkowski)\n",
    "mse_chebyshev = mean_squared_error(y_test, y_pred_chebyshev)\n",
    "\n",
    "print(f'Mean Squared Error (Euclidean Distance): {mse_euclidean:.4f}')\n",
    "print(f'Mean Squared Error (Manhattan Distance): {mse_manhattan:.4f}')\n",
    "print(f'Mean Squared Error (Minkowski Distance): {mse_minkowski:.4f}')\n",
    "print(f'Mean Squared Error (Chebyshev Distance): {mse_chebyshev:.4f}')\n"
   ]
  },
  {
   "cell_type": "markdown",
   "id": "8329dbb0",
   "metadata": {},
   "source": [
    "<코드 해석>\n",
    "- 위 코드는 KNN 회귀를 수행하고, 각 거리 측정 방법에 대한 평균 제곱 오차(MSE)를 출력합니다.\n",
    "- 평균 제곱 오차(Mean Squared Error, MSE) 값이 출력되었고, 이 값들은 각각 다른 거리 측정 방법을 사용한 KNN 회귀 모델의 성능을 나타냅니다. \n",
    "- 낮은 MSE 값이 모델의 예측 성능이 높음을 의미합니다. 따라서 이 결과를 기반으로 성능을 평가할 수 있습니다."
   ]
  },
  {
   "cell_type": "markdown",
   "id": "adf57068",
   "metadata": {},
   "source": [
    "<결과 해석>\n",
    "- 여기서는 Manhattan Distance가 가장 낮은 MSE 값을 보여주고 있습니다. 따라서 이 모델에서는 Manhattan Distance를 사용한 것이 성능이 더 좋았다고 해석할 수 있습니다."
   ]
  },
  {
   "cell_type": "code",
   "execution_count": null,
   "id": "ad5f7ee2",
   "metadata": {},
   "outputs": [],
   "source": [
    "\n",
    "\n"
   ]
  },
  {
   "cell_type": "markdown",
   "id": "36b7884e",
   "metadata": {},
   "source": [
    "# #kaggle 에서 복붙한것(아래)"
   ]
  },
  {
   "cell_type": "markdown",
   "id": "30425adf",
   "metadata": {},
   "source": [
    "# 품질 - 2 parts \n",
    "\n",
    "- 이 데이터 세트 품질 범위는 3에서 8 사이입니다 품질 범위를 두 부분으로 나누겠습니다:\n",
    "\n",
    "- 고급 와인: 6 - 8\n",
    "- 저품질 와인: 3 - 5"
   ]
  },
  {
   "cell_type": "code",
   "execution_count": 13,
   "id": "251ef0bc",
   "metadata": {},
   "outputs": [
    {
     "data": {
      "text/plain": [
       "0       0\n",
       "1       0\n",
       "2       0\n",
       "3       1\n",
       "4       0\n",
       "       ..\n",
       "1594    0\n",
       "1595    1\n",
       "1596    1\n",
       "1597    0\n",
       "1598    1\n",
       "Name: quality, Length: 1599, dtype: int32"
      ]
     },
     "execution_count": 13,
     "metadata": {},
     "output_type": "execute_result"
    }
   ],
   "source": [
    "df[\"quality\"] = np.where(df[\"quality\"] > 5, 1, 0)\n",
    "df[\"quality\"]"
   ]
  },
  {
   "cell_type": "markdown",
   "id": "0624e4d8",
   "metadata": {},
   "source": [
    "<코드 해석>\n",
    "- np.where(df[\"quality\"] > 5, 1, 0): NumPy의 where 함수를 사용하여 조건에 따라 \"quality\" 값을 변경합니다. 조건이 True인 경우 1로, False인 경우 0으로 값을 변경합니다. 따라서 \"quality\" 값이 5보다 큰 경우에는 1로, 5 이하인 경우에는 0으로 변경됩니다.\n",
    "\n",
    "<결과 해석>\n",
    "- 최종적으로 \"quality\" 열은 5보다 큰 경우에는 1로, 5 이하인 경우에는 0으로 변환되었습니다. 이러한 처리는 종종 이진 분류 문제에서 타겟 변수를 생성할 때 사용됩니다. 예를 들어, 와인의 품질이 5보다 크면 좋은 품질(1), 5 이하이면 나쁜 품질(0)으로 분류하는 경우가 있을 수 있습니다."
   ]
  },
  {
   "cell_type": "markdown",
   "id": "d1b56d5c",
   "metadata": {},
   "source": [
    "# 독립변수(11개)와 종속변수(1개) 구분"
   ]
  },
  {
   "cell_type": "code",
   "execution_count": 14,
   "id": "1dc978e2",
   "metadata": {},
   "outputs": [],
   "source": [
    "# we select dependent variable (label)\n",
    "y = df[\"quality\"]\n",
    "\n",
    "# we select independent variable\n",
    "x = df.drop(\"quality\", axis = 1)"
   ]
  },
  {
   "cell_type": "markdown",
   "id": "819fd509",
   "metadata": {},
   "source": [
    "# 학습 세트와 테스트 세트로 나누기\n",
    "- 머신 러닝 모델을 훈련시키고 평가하기 위한 중요한 단계 중 하나\n",
    "- 일반적으로 데이터는 학습 세트와 테스트 세트로 나눔. 학습 세트를 사용하여 모델을 훈련하고, 테스트 세트를 사용하여 모델의 성능을 평가함. 이를 통해 모데링 학습 데이터에 과적합하지 않았는지를 확인하고 일반화 능력을 평가할 수 있음."
   ]
  },
  {
   "cell_type": "code",
   "execution_count": 15,
   "id": "e0d6e141",
   "metadata": {},
   "outputs": [],
   "source": [
    "x_train, x_test, y_train, y_test = train_test_split(x, y,\n",
    "                                                    test_size = 0.25,\n",
    "                                                    shuffle = True,\n",
    "                                                    random_state = 1)"
   ]
  },
  {
   "cell_type": "markdown",
   "id": "643506c8",
   "metadata": {},
   "source": [
    "# Standardization(표준화)\n",
    "1. 개념\n",
    "- 변수의 값을 표준 정규 분포로 변환하는 과정을 나타냄. 이는 변수 간의 단위 차이를 제거하고 모델의 성능을 향상시키는 데 도움을 줌. 주로 통계적 모델링이나 머신 러닝 알고리즘에서 사용됨\n",
    "2. 수행 방법\n",
    "- 2.1. 표준화: 각 변수의 값을 평균이 0이고 표준 편차가 1일 분포로 변환함.\n",
    "- 2.2 평균이 0, 표준 편차가 1일 분포: 표준화된 변수는 일반적으로 평균이 0이 되고, 표준 편차가 1이 되므로 특정 변수의 값이 편균에서 얼마나 떨어져 있는지를 측정하는 표준화된 점수로 해석할 수 있음.\n",
    "- 2.3. 사이킷런을 사용한 표준화: 'StandardScaler를 사용하면 간단하게 표준화를 수행할 수 있습니다."
   ]
  },
  {
   "cell_type": "code",
   "execution_count": 16,
   "id": "128fb402",
   "metadata": {},
   "outputs": [],
   "source": [
    "norm = MinMaxScaler(feature_range = (0, 1))\n",
    "norm.fit(x_train)\n",
    "x_train = norm.transform(x_train)\n",
    "x_test = norm.transform(x_test)"
   ]
  },
  {
   "cell_type": "markdown",
   "id": "5c8e9fa1",
   "metadata": {},
   "source": [
    "<코드 해석>\n",
    "- 이 코드는 데이터를 Min-Max Scaling을 사용하여 정규화하는 과정이다\n",
    "\n",
    "<Min-Max Scaling>\n",
    "- Min-Max Scaling은 데이터 범위를 [0,1] 또는 다른 사용자 지정 범위로 변경하여 모든 특성이 동일한 스케일을 갖도록 하는 방법 중 하나이다.\n",
    "- 이러한 스케일링을 통해 모든 특성이 동일한 스케일을 갖게 되어, 모델 학습과 예측에서 각 특성이 고르게 반영되도록 도움을 줍니다. "
   ]
  },
  {
   "cell_type": "code",
   "execution_count": 17,
   "id": "08a2d0ad",
   "metadata": {},
   "outputs": [
    {
     "name": "stdout",
     "output_type": "stream",
     "text": [
      "[[0.23893805 0.1369863  0.23       0.10769231 0.090301   0.47887324\n",
      "  0.23529412 0.4441896  0.54330709 0.17365269 0.26153846]\n",
      " [0.32743363 0.38013699 0.26       0.09230769 0.12040134 0.14084507\n",
      "  0.13602941 0.57568807 0.4488189  0.11976048 0.12307692]\n",
      " [0.69911504 0.17808219 0.6        0.13076923 0.11538462 0.42253521\n",
      "  0.24264706 0.72859327 0.28346457 0.23952096 0.32307692]\n",
      " [0.36283186 0.44178082 0.22       0.10769231 0.08695652 0.11267606\n",
      "  0.13235294 0.47629969 0.28346457 0.13173653 0.15384615]\n",
      " [0.32743363 0.49657534 0.01       0.1        0.09698997 0.05633803\n",
      "  0.02941176 0.50688073 0.45669291 0.1497006  0.4       ]]\n",
      "\n",
      "\n",
      "(1199, 11)\n",
      "_________________________________________________________________________\n",
      "[[0.37168142 0.19863014 0.64       0.1        0.13545151 0.11267606\n",
      "  0.13235294 0.65214067 0.62992126 0.19760479 0.32307692]\n",
      " [0.36283186 0.34931507 0.28       0.13846154 0.14046823 0.22535211\n",
      "  0.23161765 0.5558104  0.40944882 0.17964072 0.27692308]\n",
      " [0.51327434 0.15068493 0.58       0.21538462 0.27090301 0.07042254\n",
      "  0.03676471 0.52981651 0.35433071 0.22155689 0.44615385]\n",
      " [0.22123894 0.23287671 0.2        0.07692308 0.10869565 0.38028169\n",
      "  0.17647059 0.42278287 0.49606299 0.18562874 0.30769231]\n",
      " [0.22123894 0.18493151 0.12       0.09230769 0.08862876 0.18309859\n",
      "  0.06617647 0.18730887 0.44094488 0.11976048 0.75384615]]\n",
      "\n",
      "\n",
      "(400, 11)\n"
     ]
    }
   ],
   "source": [
    "print(x_train[0:5])\n",
    "print(\"\\n\")\n",
    "print(x_train.shape)\n",
    "print(\"_________________________________________________________________________\")\n",
    "print(x_test[0:5])\n",
    "print(\"\\n\")\n",
    "print(x_test.shape)"
   ]
  },
  {
   "cell_type": "markdown",
   "id": "d49dc6f6",
   "metadata": {},
   "source": [
    "<코드 해석>\n",
    "- 이 코드를 실행하면 훈련 데이터셋의 처음 5개의 샘플, 그리고 훈련 데이터셋과 테스트 데이터셋의 모양이 출력됩니다. 이를 통해 데이터의 구조와 일부 예시를 확인할 수 있습니다.\n",
    "\n",
    "<결과 해석>\n",
    "- Min-Max Scaling 방법으로 정규화한 결과/각 변수의 값들이 0과 1 사이로 변환되었음\n",
    "- print(x_train[0:5]): 훈련 데이터셋에서 처음 5개의 샘플을 출력합니다. 각 샘플은 11개의 특성(feature)을 가지고 있으며, 각 특성의 값은 0과 1 사이로 정규화되었습니다.\n",
    "- print(x_train.shape): 훈련 데이터셋의 모양(형태)을 출력합니다. 훈련 데이터셋은 1199개의 샘플과 각각 11개의 특성으로 구성되어 있습니다.\n",
    "----------------------------------------------------------\n",
    "- print(x_test[0:5]): 테스트 데이터셋에서 처음 5개의 샘플을 출력합니다. 테스트 데이터셋도 각 샘플의 11개 특성이 0과 1 사이로 정규화되었습니다.\n",
    "- print(x_test.shape): 테스트 데이터셋의 모양(형태)을 출력합니다. 테스트 데이터셋은 400개의 샘플과 각각 11개의 특성으로 구성되어 있습니다."
   ]
  },
  {
   "cell_type": "code",
   "execution_count": 18,
   "id": "8e3daba6",
   "metadata": {},
   "outputs": [
    {
     "name": "stdout",
     "output_type": "stream",
     "text": [
      "1144    0\n",
      "73      0\n",
      "446     0\n",
      "399     0\n",
      "647     0\n",
      "Name: quality, dtype: int32\n",
      "(1199,)\n",
      "___________________________\n",
      "75      0\n",
      "1283    1\n",
      "408     1\n",
      "1281    1\n",
      "1118    1\n",
      "Name: quality, dtype: int32\n",
      "(400,)\n"
     ]
    }
   ],
   "source": [
    "print(y_train.head())\n",
    "print(y_train.shape)\n",
    "print(\"___________________________\")\n",
    "print(y_test.head())\n",
    "print(y_test.shape)"
   ]
  },
  {
   "cell_type": "code",
   "execution_count": null,
   "id": "3aa76c0c",
   "metadata": {},
   "outputs": [],
   "source": []
  },
  {
   "cell_type": "code",
   "execution_count": 19,
   "id": "36a5d566",
   "metadata": {},
   "outputs": [],
   "source": [
    "knn = KNeighborsClassifier()"
   ]
  },
  {
   "cell_type": "code",
   "execution_count": 20,
   "id": "cfab2da8",
   "metadata": {
    "scrolled": true
   },
   "outputs": [
    {
     "data": {
      "text/html": [
       "<style>#sk-container-id-1 {color: black;}#sk-container-id-1 pre{padding: 0;}#sk-container-id-1 div.sk-toggleable {background-color: white;}#sk-container-id-1 label.sk-toggleable__label {cursor: pointer;display: block;width: 100%;margin-bottom: 0;padding: 0.3em;box-sizing: border-box;text-align: center;}#sk-container-id-1 label.sk-toggleable__label-arrow:before {content: \"▸\";float: left;margin-right: 0.25em;color: #696969;}#sk-container-id-1 label.sk-toggleable__label-arrow:hover:before {color: black;}#sk-container-id-1 div.sk-estimator:hover label.sk-toggleable__label-arrow:before {color: black;}#sk-container-id-1 div.sk-toggleable__content {max-height: 0;max-width: 0;overflow: hidden;text-align: left;background-color: #f0f8ff;}#sk-container-id-1 div.sk-toggleable__content pre {margin: 0.2em;color: black;border-radius: 0.25em;background-color: #f0f8ff;}#sk-container-id-1 input.sk-toggleable__control:checked~div.sk-toggleable__content {max-height: 200px;max-width: 100%;overflow: auto;}#sk-container-id-1 input.sk-toggleable__control:checked~label.sk-toggleable__label-arrow:before {content: \"▾\";}#sk-container-id-1 div.sk-estimator input.sk-toggleable__control:checked~label.sk-toggleable__label {background-color: #d4ebff;}#sk-container-id-1 div.sk-label input.sk-toggleable__control:checked~label.sk-toggleable__label {background-color: #d4ebff;}#sk-container-id-1 input.sk-hidden--visually {border: 0;clip: rect(1px 1px 1px 1px);clip: rect(1px, 1px, 1px, 1px);height: 1px;margin: -1px;overflow: hidden;padding: 0;position: absolute;width: 1px;}#sk-container-id-1 div.sk-estimator {font-family: monospace;background-color: #f0f8ff;border: 1px dotted black;border-radius: 0.25em;box-sizing: border-box;margin-bottom: 0.5em;}#sk-container-id-1 div.sk-estimator:hover {background-color: #d4ebff;}#sk-container-id-1 div.sk-parallel-item::after {content: \"\";width: 100%;border-bottom: 1px solid gray;flex-grow: 1;}#sk-container-id-1 div.sk-label:hover label.sk-toggleable__label {background-color: #d4ebff;}#sk-container-id-1 div.sk-serial::before {content: \"\";position: absolute;border-left: 1px solid gray;box-sizing: border-box;top: 0;bottom: 0;left: 50%;z-index: 0;}#sk-container-id-1 div.sk-serial {display: flex;flex-direction: column;align-items: center;background-color: white;padding-right: 0.2em;padding-left: 0.2em;position: relative;}#sk-container-id-1 div.sk-item {position: relative;z-index: 1;}#sk-container-id-1 div.sk-parallel {display: flex;align-items: stretch;justify-content: center;background-color: white;position: relative;}#sk-container-id-1 div.sk-item::before, #sk-container-id-1 div.sk-parallel-item::before {content: \"\";position: absolute;border-left: 1px solid gray;box-sizing: border-box;top: 0;bottom: 0;left: 50%;z-index: -1;}#sk-container-id-1 div.sk-parallel-item {display: flex;flex-direction: column;z-index: 1;position: relative;background-color: white;}#sk-container-id-1 div.sk-parallel-item:first-child::after {align-self: flex-end;width: 50%;}#sk-container-id-1 div.sk-parallel-item:last-child::after {align-self: flex-start;width: 50%;}#sk-container-id-1 div.sk-parallel-item:only-child::after {width: 0;}#sk-container-id-1 div.sk-dashed-wrapped {border: 1px dashed gray;margin: 0 0.4em 0.5em 0.4em;box-sizing: border-box;padding-bottom: 0.4em;background-color: white;}#sk-container-id-1 div.sk-label label {font-family: monospace;font-weight: bold;display: inline-block;line-height: 1.2em;}#sk-container-id-1 div.sk-label-container {text-align: center;}#sk-container-id-1 div.sk-container {/* jupyter's `normalize.less` sets `[hidden] { display: none; }` but bootstrap.min.css set `[hidden] { display: none !important; }` so we also need the `!important` here to be able to override the default hidden behavior on the sphinx rendered scikit-learn.org. See: https://github.com/scikit-learn/scikit-learn/issues/21755 */display: inline-block !important;position: relative;}#sk-container-id-1 div.sk-text-repr-fallback {display: none;}</style><div id=\"sk-container-id-1\" class=\"sk-top-container\"><div class=\"sk-text-repr-fallback\"><pre>GridSearchCV(cv=10, error_score=nan,\n",
       "             estimator=KNeighborsClassifier(algorithm=&#x27;auto&#x27;, leaf_size=30,\n",
       "                                            metric=&#x27;minkowski&#x27;,\n",
       "                                            metric_params=None, n_jobs=None,\n",
       "                                            n_neighbors=5, p=2,\n",
       "                                            weights=&#x27;uniform&#x27;),\n",
       "             n_jobs=None,\n",
       "             param_grid={&#x27;leaf_size&#x27;: [25, 30, 25],\n",
       "                         &#x27;n_neighbors&#x27;: array([ 2,  3,  4,  5,  6,  7,  8,  9, 10, 11, 12, 13, 14, 15, 16, 17, 18,\n",
       "       19, 20, 21, 22, 23, 24, 25, 26, 27, 28, 29, 30, 31, 32, 33, 34, 35,\n",
       "       36, 37, 38, 39, 40, 41, 42, 43, 44, 45, 46, 47, 48, 49]),\n",
       "                         &#x27;weights&#x27;: [&#x27;uniform&#x27;, &#x27;distance&#x27;]},\n",
       "             pre_dispatch=&#x27;2*n_jobs&#x27;, refit=True, return_train_score=False,\n",
       "             scoring=None, verbose=0)</pre><b>In a Jupyter environment, please rerun this cell to show the HTML representation or trust the notebook. <br />On GitHub, the HTML representation is unable to render, please try loading this page with nbviewer.org.</b></div><div class=\"sk-container\" hidden><div class=\"sk-item sk-dashed-wrapped\"><div class=\"sk-label-container\"><div class=\"sk-label sk-toggleable\"><input class=\"sk-toggleable__control sk-hidden--visually\" id=\"sk-estimator-id-1\" type=\"checkbox\" ><label for=\"sk-estimator-id-1\" class=\"sk-toggleable__label sk-toggleable__label-arrow\">GridSearchCV</label><div class=\"sk-toggleable__content\"><pre>GridSearchCV(cv=10, error_score=nan,\n",
       "             estimator=KNeighborsClassifier(algorithm=&#x27;auto&#x27;, leaf_size=30,\n",
       "                                            metric=&#x27;minkowski&#x27;,\n",
       "                                            metric_params=None, n_jobs=None,\n",
       "                                            n_neighbors=5, p=2,\n",
       "                                            weights=&#x27;uniform&#x27;),\n",
       "             n_jobs=None,\n",
       "             param_grid={&#x27;leaf_size&#x27;: [25, 30, 25],\n",
       "                         &#x27;n_neighbors&#x27;: array([ 2,  3,  4,  5,  6,  7,  8,  9, 10, 11, 12, 13, 14, 15, 16, 17, 18,\n",
       "       19, 20, 21, 22, 23, 24, 25, 26, 27, 28, 29, 30, 31, 32, 33, 34, 35,\n",
       "       36, 37, 38, 39, 40, 41, 42, 43, 44, 45, 46, 47, 48, 49]),\n",
       "                         &#x27;weights&#x27;: [&#x27;uniform&#x27;, &#x27;distance&#x27;]},\n",
       "             pre_dispatch=&#x27;2*n_jobs&#x27;, refit=True, return_train_score=False,\n",
       "             scoring=None, verbose=0)</pre></div></div></div><div class=\"sk-parallel\"><div class=\"sk-parallel-item\"><div class=\"sk-item\"><div class=\"sk-label-container\"><div class=\"sk-label sk-toggleable\"><input class=\"sk-toggleable__control sk-hidden--visually\" id=\"sk-estimator-id-2\" type=\"checkbox\" ><label for=\"sk-estimator-id-2\" class=\"sk-toggleable__label sk-toggleable__label-arrow\">estimator: KNeighborsClassifier</label><div class=\"sk-toggleable__content\"><pre>KNeighborsClassifier(algorithm=&#x27;auto&#x27;, leaf_size=30, metric=&#x27;minkowski&#x27;,\n",
       "                     metric_params=None, n_jobs=None, n_neighbors=5, p=2,\n",
       "                     weights=&#x27;uniform&#x27;)</pre></div></div></div><div class=\"sk-serial\"><div class=\"sk-item\"><div class=\"sk-estimator sk-toggleable\"><input class=\"sk-toggleable__control sk-hidden--visually\" id=\"sk-estimator-id-3\" type=\"checkbox\" ><label for=\"sk-estimator-id-3\" class=\"sk-toggleable__label sk-toggleable__label-arrow\">KNeighborsClassifier</label><div class=\"sk-toggleable__content\"><pre>KNeighborsClassifier()</pre></div></div></div></div></div></div></div></div></div></div>"
      ],
      "text/plain": [
       "GridSearchCV(cv=10, error_score=nan,\n",
       "             estimator=KNeighborsClassifier(algorithm='auto', leaf_size=30,\n",
       "                                            metric='minkowski',\n",
       "                                            metric_params=None, n_jobs=None,\n",
       "                                            n_neighbors=5, p=2,\n",
       "                                            weights='uniform'),\n",
       "             n_jobs=None,\n",
       "             param_grid={'leaf_size': [25, 30, 25],\n",
       "                         'n_neighbors': array([ 2,  3,  4,  5,  6,  7,  8,  9, 10, 11, 12, 13, 14, 15, 16, 17, 18,\n",
       "       19, 20, 21, 22, 23, 24, 25, 26, 27, 28, 29, 30, 31, 32, 33, 34, 35,\n",
       "       36, 37, 38, 39, 40, 41, 42, 43, 44, 45, 46, 47, 48, 49]),\n",
       "                         'weights': ['uniform', 'distance']},\n",
       "             pre_dispatch='2*n_jobs', refit=True, return_train_score=False,\n",
       "             scoring=None, verbose=0)"
      ]
     },
     "execution_count": 20,
     "metadata": {},
     "output_type": "execute_result"
    }
   ],
   "source": [
    "knn_params = {\"n_neighbors\": np.arange(2, 50),\n",
    "             \"weights\": [\"uniform\", \"distance\"],\n",
    "             \"leaf_size\": [25, 30, 35]}\n",
    "\n",
    "knn_cv_model = GridSearchCV(knn, knn_params, cv = 10)\n",
    "knn_cv_model.fit(x_train, y_train)"
   ]
  },
  {
   "cell_type": "markdown",
   "id": "4f015003",
   "metadata": {},
   "source": [
    "<코드 해석>\n",
    "1. np.arange(2, 50) \n",
    "- n_neighbors의 후보 값으로 2부터 49까지의 범위에서 정수를 사용하여 다양한 이웃 수를 실험하고, 이 중에서 어떤 값이 모델의 성능을 가장 향상시키는지 찾아내려는 것입니다.\n",
    "\n",
    "2. \"weights\": [\"uniform\", \"distance\"]\n",
    "- weights는 KNN 알고리즘에서 사용되는 가중치 옵션을 나타냅니다. KNN은 이웃 간의 거리를 기반으로 예측을 수행하는데, 가까운 이웃과 먼 이웃에 동일한 영향을 주는지, 아니면 거리에 따라 가중치를 다르게 부여하는지를 결정하는 매개변수\n",
    "- \"uniform\": 모든 이웃에 동일한 가중치를 부여합니다. 즉, 가장 가까운 이웃과 가장 먼 이웃이 동일한 영향을 미칩니다.\n",
    "- \"distance\": 이웃 간의 거리에 따라 가중치를 부여합니다. 가까운 이웃일수록 더 큰 가중치를 가지며, 먼 이웃일수록 작은 가중치를 부여합니다. 따라서 가장 가까운 이웃이 예측에 더 큰 영향을 미칩니다.\n",
    "- 결론: weights: \"uniform\"과 \"distance\" 두 가지 가중치 옵션을 테스트합니다.\n",
    "\n",
    "3. \"leaf_size\": [25, 30, 25]\n",
    "- K-D 트리를 구성할 때 사용되는 잎(leaf) 노드의 크기를 지정하는 매개변수\n",
    "-  K-D 트리는 공간 분할을 효율적으로 수행하기 위해 사용되는 데이터 구조 중 하나로, 특히 K-최근접 이웃(KNN) 알고리즘에서 사용\n",
    "- 잎 노드는 트리의 말단 노드를 나타내며, 잎 노드의 크기는 구성된 트리의 구조에 영향을 줍니다. \"leaf_size\" 매개변수는 잎 노드의 크기를 지정하는데, 이 값이 작을수록 트리는 더 세분화된 구조를 가지게 되고, 값이 클수록 더 간단한 구조를 가지게 됩니다."
   ]
  },
  {
   "cell_type": "code",
   "execution_count": 26,
   "id": "287c30ac",
   "metadata": {
    "scrolled": true
   },
   "outputs": [
    {
     "data": {
      "text/html": [
       "<style>#sk-container-id-4 {color: black;}#sk-container-id-4 pre{padding: 0;}#sk-container-id-4 div.sk-toggleable {background-color: white;}#sk-container-id-4 label.sk-toggleable__label {cursor: pointer;display: block;width: 100%;margin-bottom: 0;padding: 0.3em;box-sizing: border-box;text-align: center;}#sk-container-id-4 label.sk-toggleable__label-arrow:before {content: \"▸\";float: left;margin-right: 0.25em;color: #696969;}#sk-container-id-4 label.sk-toggleable__label-arrow:hover:before {color: black;}#sk-container-id-4 div.sk-estimator:hover label.sk-toggleable__label-arrow:before {color: black;}#sk-container-id-4 div.sk-toggleable__content {max-height: 0;max-width: 0;overflow: hidden;text-align: left;background-color: #f0f8ff;}#sk-container-id-4 div.sk-toggleable__content pre {margin: 0.2em;color: black;border-radius: 0.25em;background-color: #f0f8ff;}#sk-container-id-4 input.sk-toggleable__control:checked~div.sk-toggleable__content {max-height: 200px;max-width: 100%;overflow: auto;}#sk-container-id-4 input.sk-toggleable__control:checked~label.sk-toggleable__label-arrow:before {content: \"▾\";}#sk-container-id-4 div.sk-estimator input.sk-toggleable__control:checked~label.sk-toggleable__label {background-color: #d4ebff;}#sk-container-id-4 div.sk-label input.sk-toggleable__control:checked~label.sk-toggleable__label {background-color: #d4ebff;}#sk-container-id-4 input.sk-hidden--visually {border: 0;clip: rect(1px 1px 1px 1px);clip: rect(1px, 1px, 1px, 1px);height: 1px;margin: -1px;overflow: hidden;padding: 0;position: absolute;width: 1px;}#sk-container-id-4 div.sk-estimator {font-family: monospace;background-color: #f0f8ff;border: 1px dotted black;border-radius: 0.25em;box-sizing: border-box;margin-bottom: 0.5em;}#sk-container-id-4 div.sk-estimator:hover {background-color: #d4ebff;}#sk-container-id-4 div.sk-parallel-item::after {content: \"\";width: 100%;border-bottom: 1px solid gray;flex-grow: 1;}#sk-container-id-4 div.sk-label:hover label.sk-toggleable__label {background-color: #d4ebff;}#sk-container-id-4 div.sk-serial::before {content: \"\";position: absolute;border-left: 1px solid gray;box-sizing: border-box;top: 0;bottom: 0;left: 50%;z-index: 0;}#sk-container-id-4 div.sk-serial {display: flex;flex-direction: column;align-items: center;background-color: white;padding-right: 0.2em;padding-left: 0.2em;position: relative;}#sk-container-id-4 div.sk-item {position: relative;z-index: 1;}#sk-container-id-4 div.sk-parallel {display: flex;align-items: stretch;justify-content: center;background-color: white;position: relative;}#sk-container-id-4 div.sk-item::before, #sk-container-id-4 div.sk-parallel-item::before {content: \"\";position: absolute;border-left: 1px solid gray;box-sizing: border-box;top: 0;bottom: 0;left: 50%;z-index: -1;}#sk-container-id-4 div.sk-parallel-item {display: flex;flex-direction: column;z-index: 1;position: relative;background-color: white;}#sk-container-id-4 div.sk-parallel-item:first-child::after {align-self: flex-end;width: 50%;}#sk-container-id-4 div.sk-parallel-item:last-child::after {align-self: flex-start;width: 50%;}#sk-container-id-4 div.sk-parallel-item:only-child::after {width: 0;}#sk-container-id-4 div.sk-dashed-wrapped {border: 1px dashed gray;margin: 0 0.4em 0.5em 0.4em;box-sizing: border-box;padding-bottom: 0.4em;background-color: white;}#sk-container-id-4 div.sk-label label {font-family: monospace;font-weight: bold;display: inline-block;line-height: 1.2em;}#sk-container-id-4 div.sk-label-container {text-align: center;}#sk-container-id-4 div.sk-container {/* jupyter's `normalize.less` sets `[hidden] { display: none; }` but bootstrap.min.css set `[hidden] { display: none !important; }` so we also need the `!important` here to be able to override the default hidden behavior on the sphinx rendered scikit-learn.org. See: https://github.com/scikit-learn/scikit-learn/issues/21755 */display: inline-block !important;position: relative;}#sk-container-id-4 div.sk-text-repr-fallback {display: none;}</style><div id=\"sk-container-id-4\" class=\"sk-top-container\"><div class=\"sk-text-repr-fallback\"><pre>GridSearchCV(cv=10, error_score=nan,\n",
       "             estimator=KNeighborsClassifier(algorithm=&#x27;auto&#x27;, leaf_size=30,\n",
       "                                            metric=&#x27;minkowski&#x27;,\n",
       "                                            metric_params=None, n_jobs=None,\n",
       "                                            n_neighbors=5, p=2,\n",
       "                                            weights=&#x27;uniform&#x27;),\n",
       "             n_jobs=None,\n",
       "             param_grid={&#x27;leaf_size&#x27;: [25, 30, 35],\n",
       "                         &#x27;n_neighbors&#x27;: array([ 5,  6,  7,  8,  9, 10, 11, 12, 13, 14, 15, 16, 17, 18, 19, 20, 21,\n",
       "       22, 23, 24, 25, 26, 27, 28, 29, 30, 31, 32, 33, 34, 35, 36, 37, 38,\n",
       "       39, 40, 41, 42, 43, 44, 45, 46, 47, 48, 49]),\n",
       "                         &#x27;weights&#x27;: [&#x27;uniform&#x27;, &#x27;distance&#x27;]},\n",
       "             pre_dispatch=&#x27;2*n_jobs&#x27;, refit=True, return_train_score=False,\n",
       "             scoring=None, verbose=0)</pre><b>In a Jupyter environment, please rerun this cell to show the HTML representation or trust the notebook. <br />On GitHub, the HTML representation is unable to render, please try loading this page with nbviewer.org.</b></div><div class=\"sk-container\" hidden><div class=\"sk-item sk-dashed-wrapped\"><div class=\"sk-label-container\"><div class=\"sk-label sk-toggleable\"><input class=\"sk-toggleable__control sk-hidden--visually\" id=\"sk-estimator-id-8\" type=\"checkbox\" ><label for=\"sk-estimator-id-8\" class=\"sk-toggleable__label sk-toggleable__label-arrow\">GridSearchCV</label><div class=\"sk-toggleable__content\"><pre>GridSearchCV(cv=10, error_score=nan,\n",
       "             estimator=KNeighborsClassifier(algorithm=&#x27;auto&#x27;, leaf_size=30,\n",
       "                                            metric=&#x27;minkowski&#x27;,\n",
       "                                            metric_params=None, n_jobs=None,\n",
       "                                            n_neighbors=5, p=2,\n",
       "                                            weights=&#x27;uniform&#x27;),\n",
       "             n_jobs=None,\n",
       "             param_grid={&#x27;leaf_size&#x27;: [25, 30, 35],\n",
       "                         &#x27;n_neighbors&#x27;: array([ 5,  6,  7,  8,  9, 10, 11, 12, 13, 14, 15, 16, 17, 18, 19, 20, 21,\n",
       "       22, 23, 24, 25, 26, 27, 28, 29, 30, 31, 32, 33, 34, 35, 36, 37, 38,\n",
       "       39, 40, 41, 42, 43, 44, 45, 46, 47, 48, 49]),\n",
       "                         &#x27;weights&#x27;: [&#x27;uniform&#x27;, &#x27;distance&#x27;]},\n",
       "             pre_dispatch=&#x27;2*n_jobs&#x27;, refit=True, return_train_score=False,\n",
       "             scoring=None, verbose=0)</pre></div></div></div><div class=\"sk-parallel\"><div class=\"sk-parallel-item\"><div class=\"sk-item\"><div class=\"sk-label-container\"><div class=\"sk-label sk-toggleable\"><input class=\"sk-toggleable__control sk-hidden--visually\" id=\"sk-estimator-id-9\" type=\"checkbox\" ><label for=\"sk-estimator-id-9\" class=\"sk-toggleable__label sk-toggleable__label-arrow\">estimator: KNeighborsClassifier</label><div class=\"sk-toggleable__content\"><pre>KNeighborsClassifier(algorithm=&#x27;auto&#x27;, leaf_size=30, metric=&#x27;minkowski&#x27;,\n",
       "                     metric_params=None, n_jobs=None, n_neighbors=5, p=2,\n",
       "                     weights=&#x27;uniform&#x27;)</pre></div></div></div><div class=\"sk-serial\"><div class=\"sk-item\"><div class=\"sk-estimator sk-toggleable\"><input class=\"sk-toggleable__control sk-hidden--visually\" id=\"sk-estimator-id-10\" type=\"checkbox\" ><label for=\"sk-estimator-id-10\" class=\"sk-toggleable__label sk-toggleable__label-arrow\">KNeighborsClassifier</label><div class=\"sk-toggleable__content\"><pre>KNeighborsClassifier()</pre></div></div></div></div></div></div></div></div></div></div>"
      ],
      "text/plain": [
       "GridSearchCV(cv=10, error_score=nan,\n",
       "             estimator=KNeighborsClassifier(algorithm='auto', leaf_size=30,\n",
       "                                            metric='minkowski',\n",
       "                                            metric_params=None, n_jobs=None,\n",
       "                                            n_neighbors=5, p=2,\n",
       "                                            weights='uniform'),\n",
       "             n_jobs=None,\n",
       "             param_grid={'leaf_size': [25, 30, 35],\n",
       "                         'n_neighbors': array([ 5,  6,  7,  8,  9, 10, 11, 12, 13, 14, 15, 16, 17, 18, 19, 20, 21,\n",
       "       22, 23, 24, 25, 26, 27, 28, 29, 30, 31, 32, 33, 34, 35, 36, 37, 38,\n",
       "       39, 40, 41, 42, 43, 44, 45, 46, 47, 48, 49]),\n",
       "                         'weights': ['uniform', 'distance']},\n",
       "             pre_dispatch='2*n_jobs', refit=True, return_train_score=False,\n",
       "             scoring=None, verbose=0)"
      ]
     },
     "execution_count": 26,
     "metadata": {},
     "output_type": "execute_result"
    }
   ],
   "source": [
    "knn_params = {\"n_neighbors\": np.arange(5, 50),\n",
    "             \"weights\": [\"uniform\", \"distance\"],\n",
    "             \"leaf_size\": [25, 30, 35]}\n",
    "\n",
    "knn_cv_model = GridSearchCV(knn, knn_params, cv = 10)\n",
    "knn_cv_model.fit(x_train, y_train)"
   ]
  },
  {
   "cell_type": "code",
   "execution_count": 21,
   "id": "3a69e9ae",
   "metadata": {},
   "outputs": [
    {
     "name": "stdout",
     "output_type": "stream",
     "text": [
      "Best score for train set: 0.798172268907563\n",
      "____________________________________________\n",
      "best K value: 21 \n",
      "best weights: distance \n",
      "best leaf size: 25\n"
     ]
    }
   ],
   "source": [
    "print(\"Best score for train set: \" + str(knn_cv_model.best_score_))\n",
    "\n",
    "print(\"____________________________________________\")\n",
    "\n",
    "print(\"best K value: \" + str(knn_cv_model.best_params_[\"n_neighbors\"]),\n",
    "     \"\\nbest weights: \" + knn_cv_model.best_params_[\"weights\"],\n",
    "     \"\\nbest leaf size: \" + str(knn_cv_model.best_params_[\"leaf_size\"]))"
   ]
  },
  {
   "cell_type": "code",
   "execution_count": 22,
   "id": "012abc35",
   "metadata": {},
   "outputs": [
    {
     "data": {
      "text/html": [
       "<style>#sk-container-id-2 {color: black;}#sk-container-id-2 pre{padding: 0;}#sk-container-id-2 div.sk-toggleable {background-color: white;}#sk-container-id-2 label.sk-toggleable__label {cursor: pointer;display: block;width: 100%;margin-bottom: 0;padding: 0.3em;box-sizing: border-box;text-align: center;}#sk-container-id-2 label.sk-toggleable__label-arrow:before {content: \"▸\";float: left;margin-right: 0.25em;color: #696969;}#sk-container-id-2 label.sk-toggleable__label-arrow:hover:before {color: black;}#sk-container-id-2 div.sk-estimator:hover label.sk-toggleable__label-arrow:before {color: black;}#sk-container-id-2 div.sk-toggleable__content {max-height: 0;max-width: 0;overflow: hidden;text-align: left;background-color: #f0f8ff;}#sk-container-id-2 div.sk-toggleable__content pre {margin: 0.2em;color: black;border-radius: 0.25em;background-color: #f0f8ff;}#sk-container-id-2 input.sk-toggleable__control:checked~div.sk-toggleable__content {max-height: 200px;max-width: 100%;overflow: auto;}#sk-container-id-2 input.sk-toggleable__control:checked~label.sk-toggleable__label-arrow:before {content: \"▾\";}#sk-container-id-2 div.sk-estimator input.sk-toggleable__control:checked~label.sk-toggleable__label {background-color: #d4ebff;}#sk-container-id-2 div.sk-label input.sk-toggleable__control:checked~label.sk-toggleable__label {background-color: #d4ebff;}#sk-container-id-2 input.sk-hidden--visually {border: 0;clip: rect(1px 1px 1px 1px);clip: rect(1px, 1px, 1px, 1px);height: 1px;margin: -1px;overflow: hidden;padding: 0;position: absolute;width: 1px;}#sk-container-id-2 div.sk-estimator {font-family: monospace;background-color: #f0f8ff;border: 1px dotted black;border-radius: 0.25em;box-sizing: border-box;margin-bottom: 0.5em;}#sk-container-id-2 div.sk-estimator:hover {background-color: #d4ebff;}#sk-container-id-2 div.sk-parallel-item::after {content: \"\";width: 100%;border-bottom: 1px solid gray;flex-grow: 1;}#sk-container-id-2 div.sk-label:hover label.sk-toggleable__label {background-color: #d4ebff;}#sk-container-id-2 div.sk-serial::before {content: \"\";position: absolute;border-left: 1px solid gray;box-sizing: border-box;top: 0;bottom: 0;left: 50%;z-index: 0;}#sk-container-id-2 div.sk-serial {display: flex;flex-direction: column;align-items: center;background-color: white;padding-right: 0.2em;padding-left: 0.2em;position: relative;}#sk-container-id-2 div.sk-item {position: relative;z-index: 1;}#sk-container-id-2 div.sk-parallel {display: flex;align-items: stretch;justify-content: center;background-color: white;position: relative;}#sk-container-id-2 div.sk-item::before, #sk-container-id-2 div.sk-parallel-item::before {content: \"\";position: absolute;border-left: 1px solid gray;box-sizing: border-box;top: 0;bottom: 0;left: 50%;z-index: -1;}#sk-container-id-2 div.sk-parallel-item {display: flex;flex-direction: column;z-index: 1;position: relative;background-color: white;}#sk-container-id-2 div.sk-parallel-item:first-child::after {align-self: flex-end;width: 50%;}#sk-container-id-2 div.sk-parallel-item:last-child::after {align-self: flex-start;width: 50%;}#sk-container-id-2 div.sk-parallel-item:only-child::after {width: 0;}#sk-container-id-2 div.sk-dashed-wrapped {border: 1px dashed gray;margin: 0 0.4em 0.5em 0.4em;box-sizing: border-box;padding-bottom: 0.4em;background-color: white;}#sk-container-id-2 div.sk-label label {font-family: monospace;font-weight: bold;display: inline-block;line-height: 1.2em;}#sk-container-id-2 div.sk-label-container {text-align: center;}#sk-container-id-2 div.sk-container {/* jupyter's `normalize.less` sets `[hidden] { display: none; }` but bootstrap.min.css set `[hidden] { display: none !important; }` so we also need the `!important` here to be able to override the default hidden behavior on the sphinx rendered scikit-learn.org. See: https://github.com/scikit-learn/scikit-learn/issues/21755 */display: inline-block !important;position: relative;}#sk-container-id-2 div.sk-text-repr-fallback {display: none;}</style><div id=\"sk-container-id-2\" class=\"sk-top-container\"><div class=\"sk-text-repr-fallback\"><pre>KNeighborsClassifier(algorithm=&#x27;auto&#x27;, leaf_size=25, metric=&#x27;minkowski&#x27;,\n",
       "                     metric_params=None, n_jobs=None, n_neighbors=21, p=2,\n",
       "                     weights=&#x27;distance&#x27;)</pre><b>In a Jupyter environment, please rerun this cell to show the HTML representation or trust the notebook. <br />On GitHub, the HTML representation is unable to render, please try loading this page with nbviewer.org.</b></div><div class=\"sk-container\" hidden><div class=\"sk-item\"><div class=\"sk-estimator sk-toggleable\"><input class=\"sk-toggleable__control sk-hidden--visually\" id=\"sk-estimator-id-4\" type=\"checkbox\" checked><label for=\"sk-estimator-id-4\" class=\"sk-toggleable__label sk-toggleable__label-arrow\">KNeighborsClassifier</label><div class=\"sk-toggleable__content\"><pre>KNeighborsClassifier(algorithm=&#x27;auto&#x27;, leaf_size=25, metric=&#x27;minkowski&#x27;,\n",
       "                     metric_params=None, n_jobs=None, n_neighbors=21, p=2,\n",
       "                     weights=&#x27;distance&#x27;)</pre></div></div></div></div></div>"
      ],
      "text/plain": [
       "KNeighborsClassifier(algorithm='auto', leaf_size=25, metric='minkowski',\n",
       "                     metric_params=None, n_jobs=None, n_neighbors=21, p=2,\n",
       "                     weights='distance')"
      ]
     },
     "execution_count": 22,
     "metadata": {},
     "output_type": "execute_result"
    }
   ],
   "source": [
    "knn_model = KNeighborsClassifier(n_neighbors = knn_cv_model.best_params_[\"n_neighbors\"],\n",
    "                                leaf_size = knn_cv_model.best_params_[\"leaf_size\"],\n",
    "                                weights = knn_cv_model.best_params_[\"weights\"])\n",
    "\n",
    "knn_model.fit(x_train, y_train)"
   ]
  },
  {
   "cell_type": "code",
   "execution_count": 23,
   "id": "86ebf007",
   "metadata": {},
   "outputs": [
    {
     "data": {
      "text/plain": [
       "0.8025"
      ]
     },
     "execution_count": 23,
     "metadata": {},
     "output_type": "execute_result"
    }
   ],
   "source": [
    "y_pred = knn_model.predict(x_test)\n",
    "accuracy_score(y_test, y_pred)"
   ]
  },
  {
   "cell_type": "code",
   "execution_count": 24,
   "id": "1876e820",
   "metadata": {},
   "outputs": [
    {
     "name": "stdout",
     "output_type": "stream",
     "text": [
      "              precision    recall  f1-score   support\n",
      "\n",
      "           0       0.78      0.81      0.79       188\n",
      "           1       0.82      0.80      0.81       212\n",
      "\n",
      "    accuracy                           0.80       400\n",
      "   macro avg       0.80      0.80      0.80       400\n",
      "weighted avg       0.80      0.80      0.80       400\n",
      "\n"
     ]
    }
   ],
   "source": [
    "print(classification_report(y_test, y_pred))"
   ]
  }
 ],
 "metadata": {
  "kernelspec": {
   "display_name": "Python 3 (ipykernel)",
   "language": "python",
   "name": "python3"
  },
  "language_info": {
   "codemirror_mode": {
    "name": "ipython",
    "version": 3
   },
   "file_extension": ".py",
   "mimetype": "text/x-python",
   "name": "python",
   "nbconvert_exporter": "python",
   "pygments_lexer": "ipython3",
   "version": "3.11.4"
  }
 },
 "nbformat": 4,
 "nbformat_minor": 5
}
