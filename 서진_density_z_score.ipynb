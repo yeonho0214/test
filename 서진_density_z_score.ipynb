{
  "nbformat": 4,
  "nbformat_minor": 0,
  "metadata": {
    "colab": {
      "provenance": []
    },
    "kernelspec": {
      "name": "python3",
      "display_name": "Python 3"
    },
    "language_info": {
      "name": "python"
    }
  },
  "cells": [
    {
      "cell_type": "code",
      "execution_count": 1,
      "metadata": {
        "colab": {
          "base_uri": "https://localhost:8080/"
        },
        "id": "UHEaCJZBFLBv",
        "outputId": "dc35d09b-16e9-4d12-ed5b-5d7123878501"
      },
      "outputs": [
        {
          "output_type": "stream",
          "name": "stdout",
          "text": [
            "density의 표준화된 이상치 인덱스: (array([ 385,  420,  483,  485,  528,  722,  764,  866,  948, 1081, 1082,\n",
            "       1216, 1250]),)\n",
            "density의 표준화된 이상치 값: 442     1.00320\n",
            "480     1.00260\n",
            "554     1.00315\n",
            "557     1.00315\n",
            "608     1.00260\n",
            "836     0.99064\n",
            "889     1.00289\n",
            "1017    0.99007\n",
            "1114    0.99020\n",
            "1269    0.99080\n",
            "1270    0.99084\n",
            "1434    1.00369\n",
            "1474    1.00242\n",
            "Name: density, dtype: float64\n"
          ]
        }
      ],
      "source": [
        "import pandas as pd\n",
        "import numpy as np\n",
        "from scipy.stats import zscore\n",
        "\n",
        "wine = pd.read_csv('/content/winequality-red.csv')\n",
        "df = wine.copy()\n",
        "df1 = df.drop_duplicates()\n",
        "\n",
        "# 특정 열 선택\n",
        "selected_column = 'density'\n",
        "\n",
        "# 특정 열에 대한 데이터 표준화\n",
        "standardized_column = (df1[selected_column] - np.mean(df1[selected_column])) / np.std(df1[selected_column])\n",
        "\n",
        "# 특정 열에 대한 Z-score 계산\n",
        "z_scores_selected_column = zscore(standardized_column)\n",
        "\n",
        "# 이상치 탐지\n",
        "threshold = 3  # 임계값 설정\n",
        "outliers_selected_column = np.where(np.abs(z_scores_selected_column) > threshold)\n",
        "\n",
        "print(f\"{selected_column}의 표준화된 이상치 인덱스:\", outliers_selected_column)\n",
        "print(f\"{selected_column}의 표준화된 이상치 값:\", df1[selected_column].iloc[outliers_selected_column])"
      ]
    },
    {
      "cell_type": "code",
      "source": [
        "import pandas as pd\n",
        "import numpy as np\n",
        "\n",
        "wine = pd.read_csv('/content/winequality-red.csv')\n",
        "df = wine.copy()\n",
        "df1 = df.drop_duplicates()\n",
        "\n",
        "# 특정 열 선택\n",
        "selected_column = 'density'\n",
        "\n",
        "# Robust Z-score 계산\n",
        "median = np.median(df1[selected_column])\n",
        "mad = np.median(np.abs(df1[selected_column] - median))\n",
        "robust_z_scores_selected_column = 0.6745 * (df1[selected_column] - median) / mad\n",
        "\n",
        "# 이상치 탐지\n",
        "threshold = 3  # 임계값 설정\n",
        "robust_outliers_selected_column = np.where(np.abs(robust_z_scores_selected_column) > threshold)\n",
        "\n",
        "print(f\"{selected_column}의 Robust 이상치 인덱스:\", robust_outliers_selected_column)\n",
        "print(f\"{selected_column}의 Robust 이상치 값:\", df1[selected_column].iloc[robust_outliers_selected_column])"
      ],
      "metadata": {
        "colab": {
          "base_uri": "https://localhost:8080/"
        },
        "id": "esJlkqclFU5p",
        "outputId": "2286c871-943c-41ab-d5cc-a468572b03e8"
      },
      "execution_count": 2,
      "outputs": [
        {
          "output_type": "stream",
          "name": "stdout",
          "text": [
            "density의 Robust 이상치 인덱스: (array([ 127,  308,  309,  319,  385,  420,  483,  485,  486,  510,  528,\n",
            "        710,  722,  764,  850,  866,  948,  958, 1046, 1081, 1082, 1216,\n",
            "       1250]),)\n",
            "density의 Robust 이상치 값: 142     0.99160\n",
            "353     1.00180\n",
            "354     0.99120\n",
            "364     1.00220\n",
            "442     1.00320\n",
            "480     1.00260\n",
            "554     1.00315\n",
            "557     1.00315\n",
            "559     1.00210\n",
            "588     0.99170\n",
            "608     1.00260\n",
            "821     0.99154\n",
            "836     0.99064\n",
            "889     1.00289\n",
            "999     0.99162\n",
            "1017    0.99007\n",
            "1114    0.99020\n",
            "1126    0.99150\n",
            "1228    0.99157\n",
            "1269    0.99080\n",
            "1270    0.99084\n",
            "1434    1.00369\n",
            "1474    1.00242\n",
            "Name: density, dtype: float64\n"
          ]
        }
      ]
    }
  ]
}