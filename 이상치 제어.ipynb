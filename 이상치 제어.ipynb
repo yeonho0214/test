{
 "cells": [
  {
   "cell_type": "code",
   "execution_count": 1,
   "id": "3c9ef147",
   "metadata": {},
   "outputs": [],
   "source": [
    "#이상치 탐색"
   ]
  },
  {
   "cell_type": "code",
   "execution_count": 2,
   "id": "7c9b004a",
   "metadata": {},
   "outputs": [],
   "source": [
    "# 통계적기법> ESD\n",
    "# 필요한 코드 인포트\n",
    "import matplotlib.pyplot as plt\n",
    "import numpy as np\n",
    "import pandas as pd\n",
    "import scipy.stats as stats\n",
    "\n",
    "#Jupter notebook 내에서 실행될 수 있도록 inline 처리\n",
    "%matplotlib inline"
   ]
  },
  {
   "cell_type": "code",
   "execution_count": 3,
   "id": "80455860",
   "metadata": {},
   "outputs": [
    {
     "data": {
      "text/plain": [
       "<matplotlib.collections.PathCollection at 0x1d996be2e90>"
      ]
     },
     "execution_count": 3,
     "metadata": {},
     "output_type": "execute_result"
    },
    {
     "data": {
      "image/png": "[encoded data removed]",
      "text/plain": [
       "<Figure size 640x480 with 1 Axes>"
      ]
     },
     "metadata": {},
     "output_type": "display_data"
    }
   ],
   "source": [
    "#임의의 데이터 생성\n",
    "y = np.random.random(100)\n",
    "x = np.arange(len(y))\n",
    "\n",
    "#산점도\n",
    "plt.scatter(x,y)"
   ]
  },
  {
   "cell_type": "code",
   "execution_count": 4,
   "id": "cff57e94",
   "metadata": {},
   "outputs": [
    {
     "data": {
      "text/plain": [
       "<matplotlib.collections.PathCollection at 0x1d99b81db10>"
      ]
     },
     "execution_count": 4,
     "metadata": {},
     "output_type": "execute_result"
    },
    {
     "data": {
      "image/png": "[encoded data removed]",
      "text/plain": [
       "<Figure size 640x480 with 1 Axes>"
      ]
     },
     "metadata": {},
     "output_type": "display_data"
    }
   ],
   "source": [
    "#이상치 추가 후 산점도\n",
    "y[14] = 9\n",
    "y[83] = 10\n",
    "\n",
    "plt.scatter(x,y)"
   ]
  },
  {
   "cell_type": "code",
   "execution_count": 5,
   "id": "b5ef0b33",
   "metadata": {},
   "outputs": [],
   "source": [
    "#Grubb's test\n",
    "def grubbs_stat(y):\n",
    "    std_dev = np.std(y)\n",
    "    avg_y = np.mean(y)\n",
    "    abs_val_minus_avg = abs(y - avg_y)\n",
    "    max_of_deviations = max(abs_val_minus_avg)\n",
    "    max_ind = np.argmax(abs_val_minus_avg)\n",
    "    Gcal = max_of_deviations/ std_dev\n",
    "    print(\"Grubbs Statistics Value : {}\".format(Gcal))\n",
    "    return Gcal, max_ind\n",
    "\n",
    "#임계치를 구하는 함수\n",
    "def calculate_critical_value(size, alpha):\n",
    "    t_dist = stats.t.ppf(1 - alpha / (2 * size), size - 2)\n",
    "    numerator = (size - 1) * np.sqrt(np.square(t_dist))\n",
    "    denominator = np.sqrt(size) * np.sqrt(size - 2 + np.square(t_dist))\n",
    "    critical_value = numerator / denominator\n",
    "    print(\"Grubbs Critical Value: {}\".format(critical_value))\n",
    "    return critical_value\n",
    "\n",
    "#임계치와 검정통계량의 비교\n",
    "def check_G_values(Gs, Gc, inp, max_index):\n",
    "    if Gs > Gc:\n",
    "        print('{} is an outlier. G > G-critical: {:.4f} > {:.4f} \\n'.format(inp[max_index], Gs, Gc))\n",
    "    else:\n",
    "        print('{} is not an outlier. G > G-critical: {:.4f} > {:.4f} \\n'.format(inp[max_index], Gs, Gc))"
   ]
  },
  {
   "cell_type": "code",
   "execution_count": 6,
   "id": "729325e1",
   "metadata": {},
   "outputs": [],
   "source": [
    "#Generalized ESD test\n",
    "def ESD_Test(input_series, alpha, max_outliers):\n",
    "    for iterations in range(max_outliers):\n",
    "        Gcritical = calculate_critical_value(len(input_series), alpha)\n",
    "        Gstat, max_index = grubbs_stat(input_series)\n",
    "        check_G_values(Gstat, Gcritical, input_series, max_index)\n",
    "        input_series = np.delete(input_series, max_index)"
   ]
  },
  {
   "cell_type": "code",
   "execution_count": 7,
   "id": "ba32b62d",
   "metadata": {},
   "outputs": [
    {
     "name": "stdout",
     "output_type": "stream",
     "text": [
      "Grubbs Critical Value: 3.384082902288351\n",
      "Grubbs Statistics Value : 7.19999434615126\n",
      "10.0 is an outlier. G > G-critical: 7.2000 > 3.3841 \n",
      "\n",
      "Grubbs Critical Value: 3.380650508067058\n",
      "Grubbs Statistics Value : 9.372479264166955\n",
      "9.0 is an outlier. G > G-critical: 9.3725 > 3.3807 \n",
      "\n",
      "Grubbs Critical Value: 3.377175980782947\n",
      "Grubbs Statistics Value : 1.7163461987408863\n",
      "0.9845820851988205 is not an outlier. G > G-critical: 1.7163 > 3.3772 \n",
      "\n"
     ]
    }
   ],
   "source": [
    "#유의수준 0.05에서의 r을 3으로 설정\n",
    "ESD_Test(y, 0.05, 3)"
   ]
  },
  {
   "cell_type": "markdown",
   "id": "b86fc559",
   "metadata": {},
   "source": [
    "# \n",
    "'이상치로 설정한 값들은 이상치라고 하며, 아닌 값은 아니다'라는 출력을 얻었다.\n",
    "\n"
   ]
  },
  {
   "cell_type": "code",
   "execution_count": 8,
   "id": "b8ef09b7",
   "metadata": {},
   "outputs": [
    {
     "name": "stdout",
     "output_type": "stream",
     "text": [
      "데이터의 평균은 2.6\n",
      "데이터의 표준 편차는 2.6783079235467557\n"
     ]
    }
   ],
   "source": [
    "# 통계적기법> Z-score\n",
    "import numpy as np  \n",
    "\n",
    "#평균과 표준편차 계산\n",
    "data = [1, 3, 3, 2, 4, 1, 1, 12, 1, 2, 3, 2, 1, 2, 1]\n",
    "\n",
    "mean = np.mean(data)\n",
    "\n",
    "std = np.std(data)\n",
    "\n",
    "print('데이터의 평균은', mean)\n",
    "\n",
    "print('데이터의 표준 편차는', std)"
   ]
  },
  {
   "cell_type": "code",
   "execution_count": 9,
   "id": "0b188a33",
   "metadata": {},
   "outputs": [
    {
     "name": "stdout",
     "output_type": "stream",
     "text": [
      "데이터셋 내의 이상값은 [12]\n"
     ]
    }
   ],
   "source": [
    "#Z-score 계산하기(Z-score가 3(임계값)보다 크면 이상값으로 출력)\n",
    "threshold = 3\n",
    "\n",
    "outlier = [] \n",
    "\n",
    "for i in data: \n",
    "    z = (i-mean)/std \n",
    "    if z > threshold: \n",
    "        outlier.append(i) \n",
    "\n",
    "print('데이터셋 내의 이상값은', outlier) "
   ]
  },
  {
   "cell_type": "code",
   "execution_count": null,
   "id": "a691eb4a",
   "metadata": {},
   "outputs": [],
   "source": []
  }
 ],
 "metadata": {
  "kernelspec": {
   "display_name": "Python 3 (ipykernel)",
   "language": "python",
   "name": "python3"
  },
  "language_info": {
   "codemirror_mode": {
    "name": "ipython",
    "version": 3
   },
   "file_extension": ".py",
   "mimetype": "text/x-python",
   "name": "python",
   "nbconvert_exporter": "python",
   "pygments_lexer": "ipython3",
   "version": "3.11.4"
  }
 },
 "nbformat": 4,
 "nbformat_minor": 5
}
